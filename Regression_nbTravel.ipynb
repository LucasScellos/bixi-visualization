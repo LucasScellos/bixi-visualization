{
 "cells": [
  {
   "cell_type": "code",
   "execution_count": 1,
   "id": "8274fcc1-ac40-421e-9b60-5848f4cb74f3",
   "metadata": {},
   "outputs": [],
   "source": [
    "import pandas as pd \n",
    "import numpy as np\n",
    "import matplotlib.pyplot as plt\n",
    "import sklearn"
   ]
  },
  {
   "cell_type": "code",
   "execution_count": 2,
   "id": "f77725d3-a8e8-4f91-babe-e89fcdc9ba3b",
   "metadata": {},
   "outputs": [
    {
     "data": {
      "text/html": [
       "<div>\n",
       "<style scoped>\n",
       "    .dataframe tbody tr th:only-of-type {\n",
       "        vertical-align: middle;\n",
       "    }\n",
       "\n",
       "    .dataframe tbody tr th {\n",
       "        vertical-align: top;\n",
       "    }\n",
       "\n",
       "    .dataframe thead th {\n",
       "        text-align: right;\n",
       "    }\n",
       "</style>\n",
       "<table border=\"1\" class=\"dataframe\">\n",
       "  <thead>\n",
       "    <tr style=\"text-align: right;\">\n",
       "      <th></th>\n",
       "      <th>nb</th>\n",
       "      <th>date</th>\n",
       "      <th>temp</th>\n",
       "      <th>wind</th>\n",
       "      <th>rain</th>\n",
       "      <th>Day of Week</th>\n",
       "    </tr>\n",
       "  </thead>\n",
       "  <tbody>\n",
       "    <tr>\n",
       "      <th>0</th>\n",
       "      <td>8255</td>\n",
       "      <td>2021-04-09</td>\n",
       "      <td>10.68</td>\n",
       "      <td>4.25</td>\n",
       "      <td>0.11</td>\n",
       "      <td>Friday</td>\n",
       "    </tr>\n",
       "    <tr>\n",
       "      <th>1</th>\n",
       "      <td>16889</td>\n",
       "      <td>2021-04-10</td>\n",
       "      <td>10.12</td>\n",
       "      <td>3.52</td>\n",
       "      <td>0.00</td>\n",
       "      <td>Saturday</td>\n",
       "    </tr>\n",
       "    <tr>\n",
       "      <th>2</th>\n",
       "      <td>13475</td>\n",
       "      <td>2021-04-11</td>\n",
       "      <td>9.83</td>\n",
       "      <td>4.33</td>\n",
       "      <td>0.92</td>\n",
       "      <td>Sunday</td>\n",
       "    </tr>\n",
       "    <tr>\n",
       "      <th>3</th>\n",
       "      <td>9508</td>\n",
       "      <td>2021-04-12</td>\n",
       "      <td>7.28</td>\n",
       "      <td>4.47</td>\n",
       "      <td>0.27</td>\n",
       "      <td>Monday</td>\n",
       "    </tr>\n",
       "    <tr>\n",
       "      <th>4</th>\n",
       "      <td>13433</td>\n",
       "      <td>2021-04-13</td>\n",
       "      <td>6.45</td>\n",
       "      <td>2.21</td>\n",
       "      <td>0.01</td>\n",
       "      <td>Tuesday</td>\n",
       "    </tr>\n",
       "  </tbody>\n",
       "</table>\n",
       "</div>"
      ],
      "text/plain": [
       "      nb        date   temp  wind  rain Day of Week\n",
       "0   8255  2021-04-09  10.68  4.25  0.11      Friday\n",
       "1  16889  2021-04-10  10.12  3.52  0.00    Saturday\n",
       "2  13475  2021-04-11   9.83  4.33  0.92      Sunday\n",
       "3   9508  2021-04-12   7.28  4.47  0.27      Monday\n",
       "4  13433  2021-04-13   6.45  2.21  0.01     Tuesday"
      ]
     },
     "execution_count": 2,
     "metadata": {},
     "output_type": "execute_result"
    }
   ],
   "source": [
    "df = pd.read_csv('data/meteo_2021.csv')\n",
    "df.head()"
   ]
  },
  {
   "cell_type": "code",
   "execution_count": 3,
   "id": "b5a011b2-3c41-4806-b795-4ff99e20ebe9",
   "metadata": {},
   "outputs": [],
   "source": [
    "X = df.iloc[:, [2, 3, 4]].values\n",
    "y = df.iloc[:, 0].values"
   ]
  },
  {
   "cell_type": "code",
   "execution_count": 4,
   "id": "d5e7bc81-70d4-4d74-891d-464b94cddb8f",
   "metadata": {},
   "outputs": [],
   "source": [
    "from sklearn.linear_model import LinearRegression\n",
    "from sklearn.preprocessing import PolynomialFeatures"
   ]
  },
  {
   "cell_type": "markdown",
   "id": "83ab8287-fe7b-40a6-b657-8f6fd0ca8283",
   "metadata": {},
   "source": [
    "Linear Regression"
   ]
  },
  {
   "cell_type": "code",
   "execution_count": 5,
   "id": "cfb4ed6f-a2c2-4dd1-af30-a2eba3dcfa1e",
   "metadata": {},
   "outputs": [
    {
     "data": {
      "text/plain": [
       "0.5678600202121005"
      ]
     },
     "execution_count": 5,
     "metadata": {},
     "output_type": "execute_result"
    }
   ],
   "source": [
    "modelLinear = LinearRegression()\n",
    "modelLinear.fit(X,y)\n",
    "r_Linear = modelLinear.score(X,y)\n",
    "r_Linear"
   ]
  },
  {
   "cell_type": "markdown",
   "id": "2e3c1474-feb1-43d0-b33c-7e6b468f5610",
   "metadata": {},
   "source": [
    "Polynomial Regression"
   ]
  },
  {
   "cell_type": "code",
   "execution_count": 6,
   "id": "52c634dc-9484-40dc-8fdc-168369098795",
   "metadata": {},
   "outputs": [],
   "source": [
    "transformer = PolynomialFeatures(degree=3, include_bias=False)\n",
    "transformer.fit(X)\n",
    "x_ = transformer.transform(X)"
   ]
  },
  {
   "cell_type": "code",
   "execution_count": 7,
   "id": "8598d0c0-802a-4fd3-88a5-d41775f902be",
   "metadata": {},
   "outputs": [
    {
     "data": {
      "text/plain": [
       "0.6841170615253391"
      ]
     },
     "execution_count": 7,
     "metadata": {},
     "output_type": "execute_result"
    }
   ],
   "source": [
    "model = LinearRegression().fit(x_, y)\n",
    "r_Linear = model.score(x_,y)\n",
    "r_Linear"
   ]
  },
  {
   "cell_type": "code",
   "execution_count": 8,
   "id": "c438de7d-e7c8-4d04-a22b-fc109fc4a7c6",
   "metadata": {},
   "outputs": [
    {
     "data": {
      "text/plain": [
       "array([-1.44940377e+03,  3.09933946e+02, -9.23915290e+04,  1.46457900e+02,\n",
       "        5.74229576e+02, -4.26119533e+02, -1.15494871e+03,  2.27298609e+04,\n",
       "        6.14585763e+04, -3.32296654e+00, -1.14500445e+01,  6.37130116e+01,\n",
       "       -3.08450849e+01, -2.45538081e+02,  4.50928826e+02,  1.22944198e+02,\n",
       "       -1.94717341e+03,  3.05230069e+03, -4.43251940e+04])"
      ]
     },
     "execution_count": 8,
     "metadata": {},
     "output_type": "execute_result"
    }
   ],
   "source": [
    "model.coef_"
   ]
  },
  {
   "cell_type": "code",
   "execution_count": 9,
   "id": "38ff32af-d6d6-4833-b8e7-289b9dbff01f",
   "metadata": {},
   "outputs": [],
   "source": [
    "import statsmodels.api as sm"
   ]
  },
  {
   "cell_type": "code",
   "execution_count": 10,
   "id": "d1909213-5c6d-4ff7-984e-a865d6c60143",
   "metadata": {},
   "outputs": [],
   "source": [
    "x = sm.add_constant(X)"
   ]
  },
  {
   "cell_type": "code",
   "execution_count": 11,
   "id": "3d46735a-5d0e-458c-8b55-e1032b1f06df",
   "metadata": {},
   "outputs": [
    {
     "name": "stdout",
     "output_type": "stream",
     "text": [
      "                            OLS Regression Results                            \n",
      "==============================================================================\n",
      "Dep. Variable:                      y   R-squared:                       0.568\n",
      "Model:                            OLS   Adj. R-squared:                  0.562\n",
      "Method:                 Least Squares   F-statistic:                     95.05\n",
      "Date:                Wed, 22 Jun 2022   Prob (F-statistic):           2.60e-39\n",
      "Time:                        22:33:03   Log-Likelihood:                -2201.3\n",
      "No. Observations:                 221   AIC:                             4411.\n",
      "Df Residuals:                     217   BIC:                             4424.\n",
      "Df Model:                           3                                         \n",
      "Covariance Type:            nonrobust                                         \n",
      "==============================================================================\n",
      "                 coef    std err          t      P>|t|      [0.025      0.975]\n",
      "------------------------------------------------------------------------------\n",
      "const       1.257e+04   1508.088      8.338      0.000    9601.863    1.55e+04\n",
      "x1           908.3556     58.189     15.610      0.000     793.668    1023.043\n",
      "x2          -376.3547    253.575     -1.484      0.139    -876.140     123.431\n",
      "x3         -6068.4577   1636.780     -3.708      0.000   -9294.479   -2842.436\n",
      "==============================================================================\n",
      "Omnibus:                        1.000   Durbin-Watson:                   1.159\n",
      "Prob(Omnibus):                  0.607   Jarque-Bera (JB):                1.111\n",
      "Skew:                          -0.128   Prob(JB):                        0.574\n",
      "Kurtosis:                       2.764   Cond. No.                         83.2\n",
      "==============================================================================\n",
      "\n",
      "Notes:\n",
      "[1] Standard Errors assume that the covariance matrix of the errors is correctly specified.\n"
     ]
    }
   ],
   "source": [
    "model = sm.OLS(y, x)\n",
    "results = model.fit()\n",
    "print(results.summary())"
   ]
  },
  {
   "cell_type": "code",
   "execution_count": 12,
   "id": "94129aca-86fb-4a7c-afaa-6b3a04dd91f7",
   "metadata": {},
   "outputs": [
    {
     "name": "stdout",
     "output_type": "stream",
     "text": [
      "                            OLS Regression Results                            \n",
      "==============================================================================\n",
      "Dep. Variable:                      y   R-squared:                       0.568\n",
      "Model:                            OLS   Adj. R-squared:                  0.562\n",
      "Method:                 Least Squares   F-statistic:                     95.05\n",
      "Date:                Wed, 22 Jun 2022   Prob (F-statistic):           2.60e-39\n",
      "Time:                        22:33:07   Log-Likelihood:                -2201.3\n",
      "No. Observations:                 221   AIC:                             4411.\n",
      "Df Residuals:                     217   BIC:                             4424.\n",
      "Df Model:                           3                                         \n",
      "Covariance Type:            nonrobust                                         \n",
      "==============================================================================\n",
      "                 coef    std err          t      P>|t|      [0.025      0.975]\n",
      "------------------------------------------------------------------------------\n",
      "const       1.257e+04   1508.088      8.338      0.000    9601.863    1.55e+04\n",
      "x1          2.302e+05   1.47e+04     15.610      0.000    2.01e+05    2.59e+05\n",
      "x2         -2.378e+04    1.6e+04     -1.484      0.139   -5.54e+04    7798.264\n",
      "x3         -2.241e+04   6045.658     -3.708      0.000   -3.43e+04   -1.05e+04\n",
      "==============================================================================\n",
      "Omnibus:                        1.000   Durbin-Watson:                   1.159\n",
      "Prob(Omnibus):                  0.607   Jarque-Bera (JB):                1.111\n",
      "Skew:                          -0.128   Prob(JB):                        0.574\n",
      "Kurtosis:                       2.764   Cond. No.                         49.0\n",
      "==============================================================================\n",
      "\n",
      "Notes:\n",
      "[1] Standard Errors assume that the covariance matrix of the errors is correctly specified.\n"
     ]
    }
   ],
   "source": [
    "X = sklearn.preprocessing.normalize(X,axis=0)\n",
    "x = sm.add_constant(X)\n",
    "model = sm.OLS(y, x)\n",
    "results = model.fit()\n",
    "print(results.summary())"
   ]
  }
 ],
 "metadata": {
  "kernelspec": {
   "display_name": "Python 3 (ipykernel)",
   "language": "python",
   "name": "python3"
  },
  "language_info": {
   "codemirror_mode": {
    "name": "ipython",
    "version": 3
   },
   "file_extension": ".py",
   "mimetype": "text/x-python",
   "name": "python",
   "nbconvert_exporter": "python",
   "pygments_lexer": "ipython3",
   "version": "3.9.2"
  }
 },
 "nbformat": 4,
 "nbformat_minor": 5
}
