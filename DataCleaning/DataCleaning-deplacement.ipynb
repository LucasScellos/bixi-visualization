{
 "cells": [
  {
   "cell_type": "markdown",
   "id": "cb0fce98-5fb2-40b8-bd1a-5151983bdb28",
   "metadata": {},
   "source": [
    "But du notebook : recuperer et organiser les données afin de créer une carte interactive\n"
   ]
  },
  {
   "cell_type": "markdown",
   "id": "1a4006c4-b4d4-454a-adba-35f3cfc7b876",
   "metadata": {},
   "source": [
    "# 1.Data loading\n"
   ]
  },
  {
   "cell_type": "markdown",
   "id": "75afdb35-22f9-4969-b971-3a414af252bd",
   "metadata": {},
   "source": [
    "The data can be downloaded from the bixi montréal website.  \n",
    " https://bixi.com/fr/donnees-ouvertes  \n",
    "you can download them by doing : \n",
    " ```\n",
    " wget https://sitewebbixi.s3.amazonaws.com/uploads/docs/2021-stations-87d92f.zip \n",
    " ```\n"
   ]
  },
  {
   "cell_type": "code",
   "execution_count": null,
   "id": "6c617e67-db2d-47a3-a1f7-36822fa36225",
   "metadata": {},
   "outputs": [],
   "source": [
    "import pandas as pd \n",
    "from datetime import datetime\n",
    "import os"
   ]
  },
  {
   "cell_type": "code",
   "execution_count": null,
   "id": "ab5a29be-9fa6-4dc9-9f7c-ac009f1517ca",
   "metadata": {},
   "outputs": [],
   "source": [
    "# deplacement = pd.read_csv('../transfo-data/2021-rawdata.csv')\n",
    "deplacement = pd.read_csv('../data/2021_donnees_ouvertes.csv')\n",
    "deplacement.head()"
   ]
  },
  {
   "cell_type": "code",
   "execution_count": null,
   "id": "0120dec1-fe69-4091-a182-e65d6e9c3ec3",
   "metadata": {},
   "outputs": [],
   "source": [
    "deplacement = deplacement.drop(columns=[\"end_date\",\"duration_sec\",\"is_member\"])\n",
    "deplacement_unique = deplacement.groupby([\"emplacement_pk_start\",\"emplacement_pk_end\"]).count()\n",
    "deplacement_unique = deplacement_unique.reset_index()\n",
    "deplacement_unique.head()\n",
    "deplacement_unique[deplacement_unique[\"emplacement_pk_start\"]==deplacement_unique[\"emplacement_pk_end\"]][\"start_date\"].sum()"
   ]
  },
  {
   "cell_type": "markdown",
   "id": "2f28664d-03d5-4ca3-8b22-a37f90d7429f",
   "metadata": {},
   "source": [
    "We success to import the 5 millions deplacements of Montrealers in 2021. \n",
    "Now we can import the stations because we have only the *pk* and not the exact emplacement"
   ]
  },
  {
   "cell_type": "code",
   "execution_count": null,
   "id": "b8aedff7-b6f3-4b92-9321-1315700e6d31",
   "metadata": {},
   "outputs": [],
   "source": [
    "# stations = pd.read_csv('../transfo-data/2021_stations.csv')\n",
    "stations = pd.read_csv('../data/2021_stations.csv')\n",
    "stations.loc[stations[\"latitude\"]==-1.0, \"latitude\"]=45.49277\n",
    "stations.loc[stations[\"longitude\"]==-1.0, \"longitude\"]=-73.55641\n",
    "stations.head()\n"
   ]
  },
  {
   "cell_type": "markdown",
   "id": "23909e7e-650f-4161-98c9-f41f395e3628",
   "metadata": {},
   "source": [
    "As you can see, we correct an error found earlier for the coordinates of the Peel/Smith station"
   ]
  },
  {
   "cell_type": "markdown",
   "id": "53fc4e94-87a7-4dd2-864a-c8ec91d05548",
   "metadata": {},
   "source": [
    "We now perform a merge to obtain the geographical locations of each path"
   ]
  },
  {
   "cell_type": "code",
   "execution_count": null,
   "id": "49623c3b-8530-4ec9-a61f-f765aebf73f8",
   "metadata": {},
   "outputs": [],
   "source": [
    "start = deplacement_unique.merge(stations, left_on=\"emplacement_pk_start\", right_on=\"pk\")\n",
    "start.rename({\"latitude\":\"pickup_latitude\", \"longitude\":\"pickup_longitude\", \"start_date\":\"nb\", \"name\":\"pickup_name\"},errors=\"raise\",axis='columns',inplace=True)\n",
    "start_end = start.merge(stations, left_on=\"emplacement_pk_end\", right_on=\"pk\")\n",
    "start_end.rename({\"latitude\":\"dropoff_latitude\", \"longitude\":\"dropoff_longitude\"},errors=\"raise\",axis='columns',inplace=True)\n",
    "deplacement_final = start_end.drop(columns=[\"emplacement_pk_end\", \"emplacement_pk_start\",\"pk_x\",\"pk_y\"])\n",
    "deplacement_final.head()"
   ]
  },
  {
   "cell_type": "code",
   "execution_count": null,
   "id": "3bc1ade9-3886-4fc3-aed9-9dc4017c4f5a",
   "metadata": {},
   "outputs": [],
   "source": [
    "deplacement_final[\"name\"]=deplacement_final[\"pickup_name\"]+deplacement_final[\"name\"]\n",
    "deplacement_final.set_index(\"name\",inplace=True)\n",
    "deplacement_final.drop(\"pickup_name\",axis=1)\n",
    "deplacement_final.head()"
   ]
  },
  {
   "cell_type": "code",
   "execution_count": null,
   "id": "0f2ed140-fbe9-446c-b7e3-817b589bd9b3",
   "metadata": {},
   "outputs": [],
   "source": [
    "# Drop rows where same pickup and dropoff location\n",
    "index_to_drop=deplacement_final[(deplacement_final[\"pickup_latitude\"]==deplacement_final[\"dropoff_latitude\"]) | (deplacement_final[\"pickup_longitude\"]==deplacement_final[\"dropoff_longitude\"])].index\n",
    "deplacement_final.drop(index_to_drop,inplace=True)\n",
    "\n",
    "deplacement_final.to_csv('../data/2021_deplacements.csv')"
   ]
  },
  {
   "cell_type": "markdown",
   "id": "a7f176f8-c42e-4b2b-931d-3d5f228c5053",
   "metadata": {},
   "source": [
    "A file containing all the trips is now saved and can be used in Keglergl or in app.py"
   ]
  }
 ],
 "metadata": {
  "interpreter": {
   "hash": "a581282fe4ae0358a74a72c6c02278fa42c707e80ec4df3ba6158f5b95d6b699"
  },
  "kernelspec": {
   "display_name": "Python 3 (ipykernel)",
   "language": "python",
   "name": "python3"
  },
  "language_info": {
   "codemirror_mode": {
    "name": "ipython",
    "version": 3
   },
   "file_extension": ".py",
   "mimetype": "text/x-python",
   "name": "python",
   "nbconvert_exporter": "python",
   "pygments_lexer": "ipython3",
   "version": "3.9.7"
  }
 },
 "nbformat": 4,
 "nbformat_minor": 5
}
