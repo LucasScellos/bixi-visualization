{
 "cells": [
  {
   "cell_type": "code",
   "execution_count": 1,
   "id": "e0a9e9cc-48bc-461f-858d-593dd1d8b3a0",
   "metadata": {},
   "outputs": [],
   "source": [
    "import pandas as pd \n",
    "from datetime import datetime"
   ]
  },
  {
   "cell_type": "markdown",
   "id": "d1194cb3-855d-4d81-9cca-2ba9061c9863",
   "metadata": {},
   "source": [
    "# Données \n",
    "Les données récupérés le sont de bixi, (https://bixi.com/fr/donnees-ouvertes)[https://bixi.com/fr/donnees-ouvertes]\n",
    "et de l'API Oikolab. "
   ]
  },
  {
   "cell_type": "code",
   "execution_count": 2,
   "id": "b837a3b3-ff5c-4e10-870c-ffc8e6379128",
   "metadata": {},
   "outputs": [
    {
     "data": {
      "text/html": [
       "<div>\n",
       "<style scoped>\n",
       "    .dataframe tbody tr th:only-of-type {\n",
       "        vertical-align: middle;\n",
       "    }\n",
       "\n",
       "    .dataframe tbody tr th {\n",
       "        vertical-align: top;\n",
       "    }\n",
       "\n",
       "    .dataframe thead th {\n",
       "        text-align: right;\n",
       "    }\n",
       "</style>\n",
       "<table border=\"1\" class=\"dataframe\">\n",
       "  <thead>\n",
       "    <tr style=\"text-align: right;\">\n",
       "      <th></th>\n",
       "      <th>start_date</th>\n",
       "      <th>emplacement_pk_start</th>\n",
       "      <th>end_date</th>\n",
       "      <th>emplacement_pk_end</th>\n",
       "      <th>duration_sec</th>\n",
       "      <th>is_member</th>\n",
       "    </tr>\n",
       "  </thead>\n",
       "  <tbody>\n",
       "    <tr>\n",
       "      <th>0</th>\n",
       "      <td>2021-05-21 17:21:44.934</td>\n",
       "      <td>10</td>\n",
       "      <td>2021-05-21 18:07:58.699</td>\n",
       "      <td>10</td>\n",
       "      <td>2773</td>\n",
       "      <td>1</td>\n",
       "    </tr>\n",
       "    <tr>\n",
       "      <th>1</th>\n",
       "      <td>2021-06-12 14:45:02.959</td>\n",
       "      <td>10</td>\n",
       "      <td>2021-06-12 15:11:14.937</td>\n",
       "      <td>187</td>\n",
       "      <td>1571</td>\n",
       "      <td>0</td>\n",
       "    </tr>\n",
       "    <tr>\n",
       "      <th>2</th>\n",
       "      <td>2021-08-27 08:19:17.396</td>\n",
       "      <td>10</td>\n",
       "      <td>2021-08-27 08:29:04.477</td>\n",
       "      <td>506</td>\n",
       "      <td>587</td>\n",
       "      <td>1</td>\n",
       "    </tr>\n",
       "    <tr>\n",
       "      <th>3</th>\n",
       "      <td>2021-06-11 19:07:28.724</td>\n",
       "      <td>10</td>\n",
       "      <td>2021-06-11 19:50:30.214</td>\n",
       "      <td>10</td>\n",
       "      <td>2581</td>\n",
       "      <td>0</td>\n",
       "    </tr>\n",
       "    <tr>\n",
       "      <th>4</th>\n",
       "      <td>2021-05-25 07:19:29.669</td>\n",
       "      <td>10</td>\n",
       "      <td>2021-05-25 07:47:42.001</td>\n",
       "      <td>423</td>\n",
       "      <td>1692</td>\n",
       "      <td>1</td>\n",
       "    </tr>\n",
       "    <tr>\n",
       "      <th>...</th>\n",
       "      <td>...</td>\n",
       "      <td>...</td>\n",
       "      <td>...</td>\n",
       "      <td>...</td>\n",
       "      <td>...</td>\n",
       "      <td>...</td>\n",
       "    </tr>\n",
       "    <tr>\n",
       "      <th>5490038</th>\n",
       "      <td>2021-11-11 14:55:04.039</td>\n",
       "      <td>1140</td>\n",
       "      <td>2021-11-11 14:59:41.446</td>\n",
       "      <td>1140</td>\n",
       "      <td>277</td>\n",
       "      <td>0</td>\n",
       "    </tr>\n",
       "    <tr>\n",
       "      <th>5490039</th>\n",
       "      <td>2021-11-13 16:56:22.412</td>\n",
       "      <td>1140</td>\n",
       "      <td>2021-11-13 17:28:59.982</td>\n",
       "      <td>1140</td>\n",
       "      <td>1957</td>\n",
       "      <td>1</td>\n",
       "    </tr>\n",
       "    <tr>\n",
       "      <th>5490040</th>\n",
       "      <td>2021-11-11 18:41:06.111</td>\n",
       "      <td>1140</td>\n",
       "      <td>2021-11-11 18:48:18.115</td>\n",
       "      <td>928</td>\n",
       "      <td>432</td>\n",
       "      <td>1</td>\n",
       "    </tr>\n",
       "    <tr>\n",
       "      <th>5490041</th>\n",
       "      <td>2021-11-10 18:17:49.654</td>\n",
       "      <td>1140</td>\n",
       "      <td>2021-11-10 18:24:40.643</td>\n",
       "      <td>928</td>\n",
       "      <td>410</td>\n",
       "      <td>1</td>\n",
       "    </tr>\n",
       "    <tr>\n",
       "      <th>5490042</th>\n",
       "      <td>2021-11-14 14:04:58.449</td>\n",
       "      <td>1140</td>\n",
       "      <td>2021-11-14 14:20:01.221</td>\n",
       "      <td>1117</td>\n",
       "      <td>902</td>\n",
       "      <td>1</td>\n",
       "    </tr>\n",
       "  </tbody>\n",
       "</table>\n",
       "<p>5490043 rows × 6 columns</p>\n",
       "</div>"
      ],
      "text/plain": [
       "                      start_date  emplacement_pk_start  \\\n",
       "0        2021-05-21 17:21:44.934                    10   \n",
       "1        2021-06-12 14:45:02.959                    10   \n",
       "2        2021-08-27 08:19:17.396                    10   \n",
       "3        2021-06-11 19:07:28.724                    10   \n",
       "4        2021-05-25 07:19:29.669                    10   \n",
       "...                          ...                   ...   \n",
       "5490038  2021-11-11 14:55:04.039                  1140   \n",
       "5490039  2021-11-13 16:56:22.412                  1140   \n",
       "5490040  2021-11-11 18:41:06.111                  1140   \n",
       "5490041  2021-11-10 18:17:49.654                  1140   \n",
       "5490042  2021-11-14 14:04:58.449                  1140   \n",
       "\n",
       "                        end_date  emplacement_pk_end  duration_sec  is_member  \n",
       "0        2021-05-21 18:07:58.699                  10          2773          1  \n",
       "1        2021-06-12 15:11:14.937                 187          1571          0  \n",
       "2        2021-08-27 08:29:04.477                 506           587          1  \n",
       "3        2021-06-11 19:50:30.214                  10          2581          0  \n",
       "4        2021-05-25 07:47:42.001                 423          1692          1  \n",
       "...                          ...                 ...           ...        ...  \n",
       "5490038  2021-11-11 14:59:41.446                1140           277          0  \n",
       "5490039  2021-11-13 17:28:59.982                1140          1957          1  \n",
       "5490040  2021-11-11 18:48:18.115                 928           432          1  \n",
       "5490041  2021-11-10 18:24:40.643                 928           410          1  \n",
       "5490042  2021-11-14 14:20:01.221                1117           902          1  \n",
       "\n",
       "[5490043 rows x 6 columns]"
      ]
     },
     "execution_count": 2,
     "metadata": {},
     "output_type": "execute_result"
    }
   ],
   "source": [
    "deplacement = pd.read_csv('transfo-data/2021-rawdata.csv')\n",
    "deplacement"
   ]
  },
  {
   "cell_type": "code",
   "execution_count": 3,
   "id": "de2f6b2c-6225-412b-8e24-c7c9d3e569a5",
   "metadata": {},
   "outputs": [
    {
     "data": {
      "text/html": [
       "<div>\n",
       "<style scoped>\n",
       "    .dataframe tbody tr th:only-of-type {\n",
       "        vertical-align: middle;\n",
       "    }\n",
       "\n",
       "    .dataframe tbody tr th {\n",
       "        vertical-align: top;\n",
       "    }\n",
       "\n",
       "    .dataframe thead th {\n",
       "        text-align: right;\n",
       "    }\n",
       "</style>\n",
       "<table border=\"1\" class=\"dataframe\">\n",
       "  <thead>\n",
       "    <tr style=\"text-align: right;\">\n",
       "      <th></th>\n",
       "      <th>start_date</th>\n",
       "      <th>emplacement_pk_start</th>\n",
       "      <th>end_date</th>\n",
       "      <th>emplacement_pk_end</th>\n",
       "      <th>duration_sec</th>\n",
       "      <th>is_member</th>\n",
       "    </tr>\n",
       "  </thead>\n",
       "  <tbody>\n",
       "    <tr>\n",
       "      <th>0</th>\n",
       "      <td>2021-05-21</td>\n",
       "      <td>10</td>\n",
       "      <td>2021-05-21 18:07:58.699</td>\n",
       "      <td>10</td>\n",
       "      <td>2773</td>\n",
       "      <td>1</td>\n",
       "    </tr>\n",
       "    <tr>\n",
       "      <th>1</th>\n",
       "      <td>2021-06-12</td>\n",
       "      <td>10</td>\n",
       "      <td>2021-06-12 15:11:14.937</td>\n",
       "      <td>187</td>\n",
       "      <td>1571</td>\n",
       "      <td>0</td>\n",
       "    </tr>\n",
       "    <tr>\n",
       "      <th>2</th>\n",
       "      <td>2021-08-27</td>\n",
       "      <td>10</td>\n",
       "      <td>2021-08-27 08:29:04.477</td>\n",
       "      <td>506</td>\n",
       "      <td>587</td>\n",
       "      <td>1</td>\n",
       "    </tr>\n",
       "    <tr>\n",
       "      <th>3</th>\n",
       "      <td>2021-06-11</td>\n",
       "      <td>10</td>\n",
       "      <td>2021-06-11 19:50:30.214</td>\n",
       "      <td>10</td>\n",
       "      <td>2581</td>\n",
       "      <td>0</td>\n",
       "    </tr>\n",
       "    <tr>\n",
       "      <th>4</th>\n",
       "      <td>2021-05-25</td>\n",
       "      <td>10</td>\n",
       "      <td>2021-05-25 07:47:42.001</td>\n",
       "      <td>423</td>\n",
       "      <td>1692</td>\n",
       "      <td>1</td>\n",
       "    </tr>\n",
       "    <tr>\n",
       "      <th>...</th>\n",
       "      <td>...</td>\n",
       "      <td>...</td>\n",
       "      <td>...</td>\n",
       "      <td>...</td>\n",
       "      <td>...</td>\n",
       "      <td>...</td>\n",
       "    </tr>\n",
       "    <tr>\n",
       "      <th>5490038</th>\n",
       "      <td>2021-11-11</td>\n",
       "      <td>1140</td>\n",
       "      <td>2021-11-11 14:59:41.446</td>\n",
       "      <td>1140</td>\n",
       "      <td>277</td>\n",
       "      <td>0</td>\n",
       "    </tr>\n",
       "    <tr>\n",
       "      <th>5490039</th>\n",
       "      <td>2021-11-13</td>\n",
       "      <td>1140</td>\n",
       "      <td>2021-11-13 17:28:59.982</td>\n",
       "      <td>1140</td>\n",
       "      <td>1957</td>\n",
       "      <td>1</td>\n",
       "    </tr>\n",
       "    <tr>\n",
       "      <th>5490040</th>\n",
       "      <td>2021-11-11</td>\n",
       "      <td>1140</td>\n",
       "      <td>2021-11-11 18:48:18.115</td>\n",
       "      <td>928</td>\n",
       "      <td>432</td>\n",
       "      <td>1</td>\n",
       "    </tr>\n",
       "    <tr>\n",
       "      <th>5490041</th>\n",
       "      <td>2021-11-10</td>\n",
       "      <td>1140</td>\n",
       "      <td>2021-11-10 18:24:40.643</td>\n",
       "      <td>928</td>\n",
       "      <td>410</td>\n",
       "      <td>1</td>\n",
       "    </tr>\n",
       "    <tr>\n",
       "      <th>5490042</th>\n",
       "      <td>2021-11-14</td>\n",
       "      <td>1140</td>\n",
       "      <td>2021-11-14 14:20:01.221</td>\n",
       "      <td>1117</td>\n",
       "      <td>902</td>\n",
       "      <td>1</td>\n",
       "    </tr>\n",
       "  </tbody>\n",
       "</table>\n",
       "<p>5490043 rows × 6 columns</p>\n",
       "</div>"
      ],
      "text/plain": [
       "         start_date  emplacement_pk_start                 end_date  \\\n",
       "0        2021-05-21                    10  2021-05-21 18:07:58.699   \n",
       "1        2021-06-12                    10  2021-06-12 15:11:14.937   \n",
       "2        2021-08-27                    10  2021-08-27 08:29:04.477   \n",
       "3        2021-06-11                    10  2021-06-11 19:50:30.214   \n",
       "4        2021-05-25                    10  2021-05-25 07:47:42.001   \n",
       "...             ...                   ...                      ...   \n",
       "5490038  2021-11-11                  1140  2021-11-11 14:59:41.446   \n",
       "5490039  2021-11-13                  1140  2021-11-13 17:28:59.982   \n",
       "5490040  2021-11-11                  1140  2021-11-11 18:48:18.115   \n",
       "5490041  2021-11-10                  1140  2021-11-10 18:24:40.643   \n",
       "5490042  2021-11-14                  1140  2021-11-14 14:20:01.221   \n",
       "\n",
       "         emplacement_pk_end  duration_sec  is_member  \n",
       "0                        10          2773          1  \n",
       "1                       187          1571          0  \n",
       "2                       506           587          1  \n",
       "3                        10          2581          0  \n",
       "4                       423          1692          1  \n",
       "...                     ...           ...        ...  \n",
       "5490038                1140           277          0  \n",
       "5490039                1140          1957          1  \n",
       "5490040                 928           432          1  \n",
       "5490041                 928           410          1  \n",
       "5490042                1117           902          1  \n",
       "\n",
       "[5490043 rows x 6 columns]"
      ]
     },
     "execution_count": 3,
     "metadata": {},
     "output_type": "execute_result"
    }
   ],
   "source": [
    "deplacement.start_date = deplacement.start_date.apply(lambda x: x.split(\" \")[0])\n",
    "deplacement\n"
   ]
  },
  {
   "cell_type": "code",
   "execution_count": 4,
   "id": "c78d3a79-31da-43ec-80ae-7e8d613474cf",
   "metadata": {},
   "outputs": [
    {
     "name": "stderr",
     "output_type": "stream",
     "text": [
      "/tmp/ipykernel_127888/2638020246.py:3: FutureWarning: In a future version of pandas all arguments of DataFrame.drop except for the argument 'labels' will be keyword-only.\n",
      "  deplacement_par_jour.drop(deplacement_par_jour.columns.difference([\"start_date\",\"emplacement_pk_start\"]),1,inplace=True)\n"
     ]
    }
   ],
   "source": [
    "deplacement_par_jour = deplacement.groupby(\"start_date\").count()\n",
    "deplacement_par_jour.sort_values(by=[\"start_date\"], inplace=True)\n",
    "deplacement_par_jour.drop(deplacement_par_jour.columns.difference([\"start_date\",\"emplacement_pk_start\"]),1,inplace=True)\n",
    "deplacement_par_jour.reset_index(inplace=True)\n",
    "deplacement_par_jour.rename({\"emplacement_pk_start\":\"nb\"},inplace=True,errors=\"raise\",axis=\"columns\")\n"
   ]
  },
  {
   "cell_type": "code",
   "execution_count": 5,
   "id": "0a8846b1-a8e8-4f79-a486-c85c8c04b063",
   "metadata": {},
   "outputs": [
    {
     "data": {
      "text/plain": [
       "<AxesSubplot:xlabel='start_date'>"
      ]
     },
     "execution_count": 5,
     "metadata": {},
     "output_type": "execute_result"
    },
    {
     "data": {
      "image/png": "[encoded data removed]",
      "text/plain": [
       "<Figure size 432x288 with 1 Axes>"
      ]
     },
     "metadata": {
      "needs_background": "light"
     },
     "output_type": "display_data"
    }
   ],
   "source": [
    "import matplotlib.pyplot as plt \n",
    "#non lisible à refaire\n",
    "plt.rcParams[\"figure.figsize\"] = (20, 4)\n",
    "deplacement_par_jour.plot(x=\"start_date\",y=\"nb\",kind=\"bar\")"
   ]
  },
  {
   "cell_type": "code",
   "execution_count": 6,
   "id": "47574e8a-0428-4b87-b574-7b18879d90b0",
   "metadata": {},
   "outputs": [
    {
     "data": {
      "text/plain": [
       "('2021-04-09', '2021-11-15')"
      ]
     },
     "execution_count": 6,
     "metadata": {},
     "output_type": "execute_result"
    }
   ],
   "source": [
    "date_debut, date_fin= deplacement_par_jour['start_date'][0],deplacement_par_jour['start_date'][len(deplacement_par_jour)-1]\n",
    "date_debut, date_fin"
   ]
  },
  {
   "cell_type": "code",
   "execution_count": 7,
   "id": "eee59d0b-5afa-4385-bdbe-976b2f01d83d",
   "metadata": {},
   "outputs": [
    {
     "data": {
      "text/html": [
       "<div>\n",
       "<style scoped>\n",
       "    .dataframe tbody tr th:only-of-type {\n",
       "        vertical-align: middle;\n",
       "    }\n",
       "\n",
       "    .dataframe tbody tr th {\n",
       "        vertical-align: top;\n",
       "    }\n",
       "\n",
       "    .dataframe thead th {\n",
       "        text-align: right;\n",
       "    }\n",
       "</style>\n",
       "<table border=\"1\" class=\"dataframe\">\n",
       "  <thead>\n",
       "    <tr style=\"text-align: right;\">\n",
       "      <th></th>\n",
       "      <th>coordinates (lat,lon)</th>\n",
       "      <th>model (name)</th>\n",
       "      <th>model elevation (surface)</th>\n",
       "      <th>utc_offset (hrs)</th>\n",
       "      <th>temperature (degC)</th>\n",
       "      <th>wind_speed (m/s)</th>\n",
       "      <th>total_precipitation (mm of water equivalent)</th>\n",
       "    </tr>\n",
       "  </thead>\n",
       "  <tbody>\n",
       "    <tr>\n",
       "      <th>2021-04-09</th>\n",
       "      <td>(43.6529, -79.3849)</td>\n",
       "      <td>era5</td>\n",
       "      <td>127.15</td>\n",
       "      <td>-5.0</td>\n",
       "      <td>10.68</td>\n",
       "      <td>4.25</td>\n",
       "      <td>0.11</td>\n",
       "    </tr>\n",
       "    <tr>\n",
       "      <th>2021-04-10</th>\n",
       "      <td>(43.6529, -79.3849)</td>\n",
       "      <td>era5</td>\n",
       "      <td>127.15</td>\n",
       "      <td>-5.0</td>\n",
       "      <td>10.12</td>\n",
       "      <td>3.52</td>\n",
       "      <td>0.00</td>\n",
       "    </tr>\n",
       "    <tr>\n",
       "      <th>2021-04-11</th>\n",
       "      <td>(43.6529, -79.3849)</td>\n",
       "      <td>era5</td>\n",
       "      <td>127.15</td>\n",
       "      <td>-5.0</td>\n",
       "      <td>9.83</td>\n",
       "      <td>4.33</td>\n",
       "      <td>0.92</td>\n",
       "    </tr>\n",
       "    <tr>\n",
       "      <th>2021-04-12</th>\n",
       "      <td>(43.6529, -79.3849)</td>\n",
       "      <td>era5</td>\n",
       "      <td>127.15</td>\n",
       "      <td>-5.0</td>\n",
       "      <td>7.28</td>\n",
       "      <td>4.47</td>\n",
       "      <td>0.27</td>\n",
       "    </tr>\n",
       "    <tr>\n",
       "      <th>2021-04-13</th>\n",
       "      <td>(43.6529, -79.3849)</td>\n",
       "      <td>era5</td>\n",
       "      <td>127.15</td>\n",
       "      <td>-5.0</td>\n",
       "      <td>6.45</td>\n",
       "      <td>2.21</td>\n",
       "      <td>0.01</td>\n",
       "    </tr>\n",
       "    <tr>\n",
       "      <th>...</th>\n",
       "      <td>...</td>\n",
       "      <td>...</td>\n",
       "      <td>...</td>\n",
       "      <td>...</td>\n",
       "      <td>...</td>\n",
       "      <td>...</td>\n",
       "      <td>...</td>\n",
       "    </tr>\n",
       "    <tr>\n",
       "      <th>2021-11-11</th>\n",
       "      <td>(43.6529, -79.3849)</td>\n",
       "      <td>era5</td>\n",
       "      <td>127.15</td>\n",
       "      <td>-5.0</td>\n",
       "      <td>9.23</td>\n",
       "      <td>5.79</td>\n",
       "      <td>0.04</td>\n",
       "    </tr>\n",
       "    <tr>\n",
       "      <th>2021-11-12</th>\n",
       "      <td>(43.6529, -79.3849)</td>\n",
       "      <td>era5</td>\n",
       "      <td>127.15</td>\n",
       "      <td>-5.0</td>\n",
       "      <td>11.15</td>\n",
       "      <td>6.18</td>\n",
       "      <td>0.19</td>\n",
       "    </tr>\n",
       "    <tr>\n",
       "      <th>2021-11-13</th>\n",
       "      <td>(43.6529, -79.3849)</td>\n",
       "      <td>era5</td>\n",
       "      <td>127.15</td>\n",
       "      <td>-5.0</td>\n",
       "      <td>6.16</td>\n",
       "      <td>6.12</td>\n",
       "      <td>0.05</td>\n",
       "    </tr>\n",
       "    <tr>\n",
       "      <th>2021-11-14</th>\n",
       "      <td>(43.6529, -79.3849)</td>\n",
       "      <td>era5</td>\n",
       "      <td>127.15</td>\n",
       "      <td>-5.0</td>\n",
       "      <td>4.15</td>\n",
       "      <td>6.21</td>\n",
       "      <td>0.21</td>\n",
       "    </tr>\n",
       "    <tr>\n",
       "      <th>2021-11-15</th>\n",
       "      <td>(43.6529, -79.3849)</td>\n",
       "      <td>era5</td>\n",
       "      <td>127.15</td>\n",
       "      <td>-5.0</td>\n",
       "      <td>2.83</td>\n",
       "      <td>4.00</td>\n",
       "      <td>0.72</td>\n",
       "    </tr>\n",
       "  </tbody>\n",
       "</table>\n",
       "<p>221 rows × 7 columns</p>\n",
       "</div>"
      ],
      "text/plain": [
       "           coordinates (lat,lon) model (name)  model elevation (surface)  \\\n",
       "2021-04-09   (43.6529, -79.3849)         era5                     127.15   \n",
       "2021-04-10   (43.6529, -79.3849)         era5                     127.15   \n",
       "2021-04-11   (43.6529, -79.3849)         era5                     127.15   \n",
       "2021-04-12   (43.6529, -79.3849)         era5                     127.15   \n",
       "2021-04-13   (43.6529, -79.3849)         era5                     127.15   \n",
       "...                          ...          ...                        ...   \n",
       "2021-11-11   (43.6529, -79.3849)         era5                     127.15   \n",
       "2021-11-12   (43.6529, -79.3849)         era5                     127.15   \n",
       "2021-11-13   (43.6529, -79.3849)         era5                     127.15   \n",
       "2021-11-14   (43.6529, -79.3849)         era5                     127.15   \n",
       "2021-11-15   (43.6529, -79.3849)         era5                     127.15   \n",
       "\n",
       "            utc_offset (hrs)  temperature (degC)  wind_speed (m/s)  \\\n",
       "2021-04-09              -5.0               10.68              4.25   \n",
       "2021-04-10              -5.0               10.12              3.52   \n",
       "2021-04-11              -5.0                9.83              4.33   \n",
       "2021-04-12              -5.0                7.28              4.47   \n",
       "2021-04-13              -5.0                6.45              2.21   \n",
       "...                      ...                 ...               ...   \n",
       "2021-11-11              -5.0                9.23              5.79   \n",
       "2021-11-12              -5.0               11.15              6.18   \n",
       "2021-11-13              -5.0                6.16              6.12   \n",
       "2021-11-14              -5.0                4.15              6.21   \n",
       "2021-11-15              -5.0                2.83              4.00   \n",
       "\n",
       "            total_precipitation (mm of water equivalent)  \n",
       "2021-04-09                                          0.11  \n",
       "2021-04-10                                          0.00  \n",
       "2021-04-11                                          0.92  \n",
       "2021-04-12                                          0.27  \n",
       "2021-04-13                                          0.01  \n",
       "...                                                  ...  \n",
       "2021-11-11                                          0.04  \n",
       "2021-11-12                                          0.19  \n",
       "2021-11-13                                          0.05  \n",
       "2021-11-14                                          0.21  \n",
       "2021-11-15                                          0.72  \n",
       "\n",
       "[221 rows x 7 columns]"
      ]
     },
     "execution_count": 7,
     "metadata": {},
     "output_type": "execute_result"
    }
   ],
   "source": [
    "import requests\n",
    "\n",
    "r = requests.get('https://api.oikolab.com/weather',\n",
    "                 params={'param': ['temperature','wind_speed','total_precipitation'],\n",
    "                         'start': date_debut,\n",
    "                         'end': date_fin,\n",
    "                         'lat': 43.6529,\n",
    "                         'lon': -79.3849,\n",
    "                         'freq':'D',\n",
    "                         'api-key': '9bcc801713754ea5afb3a7aad60e263f'}\n",
    "                 )\n",
    "#svp ne pas réutiliser l'apikey qui est la mienne\n",
    "import json\n",
    "import pandas as pd\n",
    "\n",
    "weather_data = json.loads(r.json()['data'])\n",
    "df = pd.DataFrame(index=pd.to_datetime(weather_data['index'],\n",
    "                                       unit='s'),\n",
    "                  data=weather_data['data'],\n",
    "                  columns=weather_data['columns'])\n",
    "df"
   ]
  },
  {
   "cell_type": "code",
   "execution_count": 8,
   "id": "4f15f69f-0610-4eb8-bc04-7c51f01f0218",
   "metadata": {},
   "outputs": [
    {
     "data": {
      "text/html": [
       "<div>\n",
       "<style scoped>\n",
       "    .dataframe tbody tr th:only-of-type {\n",
       "        vertical-align: middle;\n",
       "    }\n",
       "\n",
       "    .dataframe tbody tr th {\n",
       "        vertical-align: top;\n",
       "    }\n",
       "\n",
       "    .dataframe thead th {\n",
       "        text-align: right;\n",
       "    }\n",
       "</style>\n",
       "<table border=\"1\" class=\"dataframe\">\n",
       "  <thead>\n",
       "    <tr style=\"text-align: right;\">\n",
       "      <th></th>\n",
       "      <th>date</th>\n",
       "      <th>temp</th>\n",
       "      <th>wind</th>\n",
       "      <th>rain</th>\n",
       "    </tr>\n",
       "  </thead>\n",
       "  <tbody>\n",
       "    <tr>\n",
       "      <th>0</th>\n",
       "      <td>2021-04-09</td>\n",
       "      <td>10.68</td>\n",
       "      <td>4.25</td>\n",
       "      <td>0.11</td>\n",
       "    </tr>\n",
       "    <tr>\n",
       "      <th>1</th>\n",
       "      <td>2021-04-10</td>\n",
       "      <td>10.12</td>\n",
       "      <td>3.52</td>\n",
       "      <td>0.00</td>\n",
       "    </tr>\n",
       "    <tr>\n",
       "      <th>2</th>\n",
       "      <td>2021-04-11</td>\n",
       "      <td>9.83</td>\n",
       "      <td>4.33</td>\n",
       "      <td>0.92</td>\n",
       "    </tr>\n",
       "    <tr>\n",
       "      <th>3</th>\n",
       "      <td>2021-04-12</td>\n",
       "      <td>7.28</td>\n",
       "      <td>4.47</td>\n",
       "      <td>0.27</td>\n",
       "    </tr>\n",
       "    <tr>\n",
       "      <th>4</th>\n",
       "      <td>2021-04-13</td>\n",
       "      <td>6.45</td>\n",
       "      <td>2.21</td>\n",
       "      <td>0.01</td>\n",
       "    </tr>\n",
       "  </tbody>\n",
       "</table>\n",
       "</div>"
      ],
      "text/plain": [
       "        date   temp  wind  rain\n",
       "0 2021-04-09  10.68  4.25  0.11\n",
       "1 2021-04-10  10.12  3.52  0.00\n",
       "2 2021-04-11   9.83  4.33  0.92\n",
       "3 2021-04-12   7.28  4.47  0.27\n",
       "4 2021-04-13   6.45  2.21  0.01"
      ]
     },
     "execution_count": 8,
     "metadata": {},
     "output_type": "execute_result"
    }
   ],
   "source": [
    "df2 = df.drop(columns=[\"model (name)\", \"coordinates (lat,lon)\",\"utc_offset (hrs)\",\"model elevation (surface)\"])\n",
    "df2.rename({\"temperature (degC)\":\"temp\", \"wind_speed (m/s)\":\"wind\", \"total_precipitation (mm of water equivalent)\":\"rain\"},errors=\"raise\",axis='columns',inplace=True)\n",
    "df2.index.name = \"date\"\n",
    "df2.reset_index(inplace=True)\n",
    "df2.head()"
   ]
  },
  {
   "cell_type": "code",
   "execution_count": 9,
   "id": "6b00ef54-4f81-4cb6-8946-fcd70bbea0f4",
   "metadata": {},
   "outputs": [
    {
     "data": {
      "text/plain": [
       "(str, pandas._libs.tslibs.timestamps.Timestamp)"
      ]
     },
     "execution_count": 9,
     "metadata": {},
     "output_type": "execute_result"
    }
   ],
   "source": [
    "type(deplacement_par_jour[\"start_date\"][0]), type(df2[\"date\"][0])"
   ]
  },
  {
   "cell_type": "code",
   "execution_count": 10,
   "id": "b9aa356c-951f-43d5-ab57-aa05d7d68bf4",
   "metadata": {},
   "outputs": [],
   "source": [
    "deplacement_par_jour[\"start_date\"] = pd.to_datetime(deplacement_par_jour[\"start_date\"])"
   ]
  },
  {
   "cell_type": "code",
   "execution_count": 11,
   "id": "ee9a1048-c2e7-4330-8776-c07e43345c5d",
   "metadata": {},
   "outputs": [],
   "source": [
    "start = deplacement_par_jour.merge(df2, left_on=\"start_date\", right_on=\"date\")\n",
    "start.drop(columns=\"start_date\",inplace=True)\n",
    "#deplacement_par_jour.plot(x=\"start_date\",y=\"nb\",kind=\"bar\")\n"
   ]
  },
  {
   "cell_type": "code",
   "execution_count": 12,
   "id": "ef547858-2ce0-4522-a768-4dbf489a0712",
   "metadata": {},
   "outputs": [
    {
     "data": {
      "text/plain": [
       "<matplotlib.collections.PathCollection at 0x7f5715dd90>"
      ]
     },
     "execution_count": 12,
     "metadata": {},
     "output_type": "execute_result"
    },
    {
     "data": {
      "image/png": "[encoded data removed]",
      "text/plain": [
       "<Figure size 432x288 with 1 Axes>"
      ]
     },
     "metadata": {
      "needs_background": "light"
     },
     "output_type": "display_data"
    }
   ],
   "source": [
    "data = {\"nb\" : start[\"nb\"],\n",
    "        \"rain\": start[\"rain\"]}\n",
    "plt.scatter(\"rain\",\"nb\",data=data)"
   ]
  },
  {
   "cell_type": "code",
   "execution_count": 13,
   "id": "44108f18-f1bd-4eb3-acbf-ce9081c06025",
   "metadata": {},
   "outputs": [
    {
     "data": {
      "text/plain": [
       "<matplotlib.collections.PathCollection at 0x7f5710cbb0>"
      ]
     },
     "execution_count": 13,
     "metadata": {},
     "output_type": "execute_result"
    },
    {
     "data": {
      "image/png": "[encoded data removed]",
      "text/plain": [
       "<Figure size 432x288 with 1 Axes>"
      ]
     },
     "metadata": {
      "needs_background": "light"
     },
     "output_type": "display_data"
    }
   ],
   "source": [
    "data = {\"nb\" : start[\"nb\"],\n",
    "        \"temp\": start[\"temp\"]}\n",
    "plt.scatter(\"temp\",\"nb\",data=data)"
   ]
  },
  {
   "cell_type": "code",
   "execution_count": 14,
   "id": "01e62513-2c59-4d35-a4e8-2aa66516e65e",
   "metadata": {},
   "outputs": [
    {
     "data": {
      "text/plain": [
       "<matplotlib.collections.PathCollection at 0x7f57043ac0>"
      ]
     },
     "execution_count": 14,
     "metadata": {},
     "output_type": "execute_result"
    },
    {
     "data": {
      "image/png": "[encoded data removed]",
      "text/plain": [
       "<Figure size 432x288 with 1 Axes>"
      ]
     },
     "metadata": {
      "needs_background": "light"
     },
     "output_type": "display_data"
    }
   ],
   "source": [
    "data = {\"nb\" : start[\"nb\"],\n",
    "        \"wind\": start[\"wind\"]}\n",
    "plt.scatter(\"wind\",\"nb\",data=data)"
   ]
  },
  {
   "cell_type": "markdown",
   "id": "06a123fa-631b-466d-9238-f044e2d7862c",
   "metadata": {},
   "source": [
    "On peux émettre une première hypothèse que le nombre de déplacement est fortement corrélés à la pluie et à la température."
   ]
  },
  {
   "cell_type": "markdown",
   "id": "398c6708-1d18-432a-9a38-8b7cfe5c73ba",
   "metadata": {},
   "source": [
    "deplacement.start_date = deplacement.start_date.apply(lambda x: x.split(\" \")[0])"
   ]
  },
  {
   "cell_type": "code",
   "execution_count": 20,
   "id": "60f87232-b46e-452d-99bc-d57e06d14187",
   "metadata": {},
   "outputs": [],
   "source": [
    "start[\"date\"].apply(lambda x:x.weekday())\n",
    "start['Day of Week'] = start['date'].dt.day_name()"
   ]
  },
  {
   "cell_type": "code",
   "execution_count": 21,
   "id": "ab9ec6ea-a0a2-4054-9185-3c9c32a17907",
   "metadata": {},
   "outputs": [
    {
     "data": {
      "text/plain": [
       "<matplotlib.collections.PathCollection at 0x7f50794310>"
      ]
     },
     "execution_count": 21,
     "metadata": {},
     "output_type": "execute_result"
    },
    {
     "data": {
      "image/png": "[encoded data removed]",
      "text/plain": [
       "<Figure size 432x288 with 1 Axes>"
      ]
     },
     "metadata": {
      "needs_background": "light"
     },
     "output_type": "display_data"
    }
   ],
   "source": [
    "data = {\"nb\" : start[\"nb\"],\n",
    "        \"temp\": start[\"temp\"]}\n",
    "plt.scatter(\"temp\",\"nb\",data=data)"
   ]
  },
  {
   "cell_type": "code",
   "execution_count": 22,
   "id": "a30f13b4-ab57-42f1-8f22-ab90d75c7133",
   "metadata": {},
   "outputs": [],
   "source": [
    "colors = {'Monday':\"blue\",\"Tuesday\":\"green\",\"Wednesday\":\"green\",\"Friday\":\"red\",\"Thursday\":\"red\",\"Sunday\":\"yellow\",\"Saturday\":\"orange\"}"
   ]
  },
  {
   "cell_type": "code",
   "execution_count": 23,
   "id": "e1f5283f-4645-4ae2-a997-1f491613791f",
   "metadata": {},
   "outputs": [
    {
     "data": {
      "text/plain": [
       "<matplotlib.collections.PathCollection at 0x7f507472b0>"
      ]
     },
     "execution_count": 23,
     "metadata": {},
     "output_type": "execute_result"
    },
    {
     "data": {
      "image/png": "[encoded data removed]",
      "text/plain": [
       "<Figure size 432x288 with 1 Axes>"
      ]
     },
     "metadata": {
      "needs_background": "light"
     },
     "output_type": "display_data"
    }
   ],
   "source": [
    "fig, ax = plt.subplots()\n",
    "ax.scatter(start['temp'], start['nb'], c=start['Day of Week'].map(colors))"
   ]
  },
  {
   "cell_type": "code",
   "execution_count": 24,
   "id": "90edd247-74a4-461d-a5dc-fc1cee00591a",
   "metadata": {},
   "outputs": [
    {
     "data": {
      "text/plain": [
       "<matplotlib.legend.Legend at 0x7f507b9ac0>"
      ]
     },
     "execution_count": 24,
     "metadata": {},
     "output_type": "execute_result"
    },
    {
     "data": {
      "image/png": "[encoded data removed]",
      "text/plain": [
       "<Figure size 432x288 with 1 Axes>"
      ]
     },
     "metadata": {
      "needs_background": "light"
     },
     "output_type": "display_data"
    }
   ],
   "source": [
    "\n",
    "groups = start.groupby('Day of Week')\n",
    "for name, group in groups:\n",
    "    plt.plot(group.temp, group.nb, marker='o', linestyle='', markersize=7, label=name)\n",
    "\n",
    "plt.legend()"
   ]
  },
  {
   "cell_type": "code",
   "execution_count": 25,
   "id": "7488aeab-ba22-462c-8c7b-8514c43d1c17",
   "metadata": {},
   "outputs": [
    {
     "data": {
      "text/html": [
       "<div>\n",
       "<style scoped>\n",
       "    .dataframe tbody tr th:only-of-type {\n",
       "        vertical-align: middle;\n",
       "    }\n",
       "\n",
       "    .dataframe tbody tr th {\n",
       "        vertical-align: top;\n",
       "    }\n",
       "\n",
       "    .dataframe thead th {\n",
       "        text-align: right;\n",
       "    }\n",
       "</style>\n",
       "<table border=\"1\" class=\"dataframe\">\n",
       "  <thead>\n",
       "    <tr style=\"text-align: right;\">\n",
       "      <th></th>\n",
       "      <th>nb</th>\n",
       "      <th>date</th>\n",
       "      <th>temp</th>\n",
       "      <th>wind</th>\n",
       "      <th>rain</th>\n",
       "      <th>Day of Week</th>\n",
       "    </tr>\n",
       "  </thead>\n",
       "  <tbody>\n",
       "    <tr>\n",
       "      <th>0</th>\n",
       "      <td>8255</td>\n",
       "      <td>2021-04-09</td>\n",
       "      <td>10.68</td>\n",
       "      <td>4.25</td>\n",
       "      <td>0.11</td>\n",
       "      <td>Friday</td>\n",
       "    </tr>\n",
       "    <tr>\n",
       "      <th>1</th>\n",
       "      <td>16889</td>\n",
       "      <td>2021-04-10</td>\n",
       "      <td>10.12</td>\n",
       "      <td>3.52</td>\n",
       "      <td>0.00</td>\n",
       "      <td>Saturday</td>\n",
       "    </tr>\n",
       "    <tr>\n",
       "      <th>2</th>\n",
       "      <td>13475</td>\n",
       "      <td>2021-04-11</td>\n",
       "      <td>9.83</td>\n",
       "      <td>4.33</td>\n",
       "      <td>0.92</td>\n",
       "      <td>Sunday</td>\n",
       "    </tr>\n",
       "    <tr>\n",
       "      <th>3</th>\n",
       "      <td>9508</td>\n",
       "      <td>2021-04-12</td>\n",
       "      <td>7.28</td>\n",
       "      <td>4.47</td>\n",
       "      <td>0.27</td>\n",
       "      <td>Monday</td>\n",
       "    </tr>\n",
       "    <tr>\n",
       "      <th>4</th>\n",
       "      <td>13433</td>\n",
       "      <td>2021-04-13</td>\n",
       "      <td>6.45</td>\n",
       "      <td>2.21</td>\n",
       "      <td>0.01</td>\n",
       "      <td>Tuesday</td>\n",
       "    </tr>\n",
       "  </tbody>\n",
       "</table>\n",
       "</div>"
      ],
      "text/plain": [
       "      nb       date   temp  wind  rain Day of Week\n",
       "0   8255 2021-04-09  10.68  4.25  0.11      Friday\n",
       "1  16889 2021-04-10  10.12  3.52  0.00    Saturday\n",
       "2  13475 2021-04-11   9.83  4.33  0.92      Sunday\n",
       "3   9508 2021-04-12   7.28  4.47  0.27      Monday\n",
       "4  13433 2021-04-13   6.45  2.21  0.01     Tuesday"
      ]
     },
     "execution_count": 25,
     "metadata": {},
     "output_type": "execute_result"
    }
   ],
   "source": [
    "start.head()"
   ]
  },
  {
   "cell_type": "code",
   "execution_count": 26,
   "id": "1da65c2e-f690-4590-8991-5baf2ed0b14d",
   "metadata": {},
   "outputs": [],
   "source": [
    "start.to_csv('data/meteo_2021.csv',index=False)"
   ]
  }
 ],
 "metadata": {
  "kernelspec": {
   "display_name": "Python 3 (ipykernel)",
   "language": "python",
   "name": "python3"
  },
  "language_info": {
   "codemirror_mode": {
    "name": "ipython",
    "version": 3
   },
   "file_extension": ".py",
   "mimetype": "text/x-python",
   "name": "python",
   "nbconvert_exporter": "python",
   "pygments_lexer": "ipython3",
   "version": "3.9.2"
  }
 },
 "nbformat": 4,
 "nbformat_minor": 5
}
