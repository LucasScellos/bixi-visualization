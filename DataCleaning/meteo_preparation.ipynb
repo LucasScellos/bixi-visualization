{
 "cells": [
  {
   "cell_type": "code",
   "execution_count": 1,
   "id": "e0a9e9cc-48bc-461f-858d-593dd1d8b3a0",
   "metadata": {},
   "outputs": [],
   "source": [
    "import pandas as pd \n",
    "from datetime import datetime\n",
    "import matplotlib.pyplot as plt "
   ]
  },
  {
   "cell_type": "markdown",
   "id": "d1194cb3-855d-4d81-9cca-2ba9061c9863",
   "metadata": {},
   "source": [
    "# Données \n",
    "Les données récupérés le sont de bixi, (https://bixi.com/fr/donnees-ouvertes)[https://bixi.com/fr/donnees-ouvertes]\n",
    "et de l'API Oikolab. "
   ]
  },
  {
   "cell_type": "code",
   "execution_count": 2,
   "id": "b837a3b3-ff5c-4e10-870c-ffc8e6379128",
   "metadata": {},
   "outputs": [
    {
     "data": {
      "text/html": [
       "<div>\n",
       "<style scoped>\n",
       "    .dataframe tbody tr th:only-of-type {\n",
       "        vertical-align: middle;\n",
       "    }\n",
       "\n",
       "    .dataframe tbody tr th {\n",
       "        vertical-align: top;\n",
       "    }\n",
       "\n",
       "    .dataframe thead th {\n",
       "        text-align: right;\n",
       "    }\n",
       "</style>\n",
       "<table border=\"1\" class=\"dataframe\">\n",
       "  <thead>\n",
       "    <tr style=\"text-align: right;\">\n",
       "      <th></th>\n",
       "      <th>start_date</th>\n",
       "      <th>emplacement_pk_start</th>\n",
       "      <th>end_date</th>\n",
       "      <th>emplacement_pk_end</th>\n",
       "      <th>duration_sec</th>\n",
       "      <th>is_member</th>\n",
       "    </tr>\n",
       "  </thead>\n",
       "  <tbody>\n",
       "    <tr>\n",
       "      <th>0</th>\n",
       "      <td>2021-05-21 17:21:44.934</td>\n",
       "      <td>10</td>\n",
       "      <td>2021-05-21 18:07:58.699</td>\n",
       "      <td>10</td>\n",
       "      <td>2773</td>\n",
       "      <td>1</td>\n",
       "    </tr>\n",
       "    <tr>\n",
       "      <th>1</th>\n",
       "      <td>2021-06-12 14:45:02.959</td>\n",
       "      <td>10</td>\n",
       "      <td>2021-06-12 15:11:14.937</td>\n",
       "      <td>187</td>\n",
       "      <td>1571</td>\n",
       "      <td>0</td>\n",
       "    </tr>\n",
       "    <tr>\n",
       "      <th>2</th>\n",
       "      <td>2021-08-27 08:19:17.396</td>\n",
       "      <td>10</td>\n",
       "      <td>2021-08-27 08:29:04.477</td>\n",
       "      <td>506</td>\n",
       "      <td>587</td>\n",
       "      <td>1</td>\n",
       "    </tr>\n",
       "    <tr>\n",
       "      <th>3</th>\n",
       "      <td>2021-06-11 19:07:28.724</td>\n",
       "      <td>10</td>\n",
       "      <td>2021-06-11 19:50:30.214</td>\n",
       "      <td>10</td>\n",
       "      <td>2581</td>\n",
       "      <td>0</td>\n",
       "    </tr>\n",
       "    <tr>\n",
       "      <th>4</th>\n",
       "      <td>2021-05-25 07:19:29.669</td>\n",
       "      <td>10</td>\n",
       "      <td>2021-05-25 07:47:42.001</td>\n",
       "      <td>423</td>\n",
       "      <td>1692</td>\n",
       "      <td>1</td>\n",
       "    </tr>\n",
       "    <tr>\n",
       "      <th>...</th>\n",
       "      <td>...</td>\n",
       "      <td>...</td>\n",
       "      <td>...</td>\n",
       "      <td>...</td>\n",
       "      <td>...</td>\n",
       "      <td>...</td>\n",
       "    </tr>\n",
       "    <tr>\n",
       "      <th>5490038</th>\n",
       "      <td>2021-11-11 14:55:04.039</td>\n",
       "      <td>1140</td>\n",
       "      <td>2021-11-11 14:59:41.446</td>\n",
       "      <td>1140</td>\n",
       "      <td>277</td>\n",
       "      <td>0</td>\n",
       "    </tr>\n",
       "    <tr>\n",
       "      <th>5490039</th>\n",
       "      <td>2021-11-13 16:56:22.412</td>\n",
       "      <td>1140</td>\n",
       "      <td>2021-11-13 17:28:59.982</td>\n",
       "      <td>1140</td>\n",
       "      <td>1957</td>\n",
       "      <td>1</td>\n",
       "    </tr>\n",
       "    <tr>\n",
       "      <th>5490040</th>\n",
       "      <td>2021-11-11 18:41:06.111</td>\n",
       "      <td>1140</td>\n",
       "      <td>2021-11-11 18:48:18.115</td>\n",
       "      <td>928</td>\n",
       "      <td>432</td>\n",
       "      <td>1</td>\n",
       "    </tr>\n",
       "    <tr>\n",
       "      <th>5490041</th>\n",
       "      <td>2021-11-10 18:17:49.654</td>\n",
       "      <td>1140</td>\n",
       "      <td>2021-11-10 18:24:40.643</td>\n",
       "      <td>928</td>\n",
       "      <td>410</td>\n",
       "      <td>1</td>\n",
       "    </tr>\n",
       "    <tr>\n",
       "      <th>5490042</th>\n",
       "      <td>2021-11-14 14:04:58.449</td>\n",
       "      <td>1140</td>\n",
       "      <td>2021-11-14 14:20:01.221</td>\n",
       "      <td>1117</td>\n",
       "      <td>902</td>\n",
       "      <td>1</td>\n",
       "    </tr>\n",
       "  </tbody>\n",
       "</table>\n",
       "<p>5490043 rows × 6 columns</p>\n",
       "</div>"
      ],
      "text/plain": [
       "                      start_date  emplacement_pk_start  \\\n",
       "0        2021-05-21 17:21:44.934                    10   \n",
       "1        2021-06-12 14:45:02.959                    10   \n",
       "2        2021-08-27 08:19:17.396                    10   \n",
       "3        2021-06-11 19:07:28.724                    10   \n",
       "4        2021-05-25 07:19:29.669                    10   \n",
       "...                          ...                   ...   \n",
       "5490038  2021-11-11 14:55:04.039                  1140   \n",
       "5490039  2021-11-13 16:56:22.412                  1140   \n",
       "5490040  2021-11-11 18:41:06.111                  1140   \n",
       "5490041  2021-11-10 18:17:49.654                  1140   \n",
       "5490042  2021-11-14 14:04:58.449                  1140   \n",
       "\n",
       "                        end_date  emplacement_pk_end  duration_sec  is_member  \n",
       "0        2021-05-21 18:07:58.699                  10          2773          1  \n",
       "1        2021-06-12 15:11:14.937                 187          1571          0  \n",
       "2        2021-08-27 08:29:04.477                 506           587          1  \n",
       "3        2021-06-11 19:50:30.214                  10          2581          0  \n",
       "4        2021-05-25 07:47:42.001                 423          1692          1  \n",
       "...                          ...                 ...           ...        ...  \n",
       "5490038  2021-11-11 14:59:41.446                1140           277          0  \n",
       "5490039  2021-11-13 17:28:59.982                1140          1957          1  \n",
       "5490040  2021-11-11 18:48:18.115                 928           432          1  \n",
       "5490041  2021-11-10 18:24:40.643                 928           410          1  \n",
       "5490042  2021-11-14 14:20:01.221                1117           902          1  \n",
       "\n",
       "[5490043 rows x 6 columns]"
      ]
     },
     "execution_count": 2,
     "metadata": {},
     "output_type": "execute_result"
    }
   ],
   "source": [
    "deplacement = pd.read_csv('../transfo-data/2021-rawdata.csv')\n",
    "deplacement"
   ]
  },
  {
   "cell_type": "code",
   "execution_count": 3,
   "id": "de2f6b2c-6225-412b-8e24-c7c9d3e569a5",
   "metadata": {},
   "outputs": [
    {
     "name": "stderr",
     "output_type": "stream",
     "text": [
      "/tmp/ipykernel_77167/691118772.py:4: FutureWarning: In a future version of pandas all arguments of DataFrame.drop except for the argument 'labels' will be keyword-only.\n",
      "  deplacement_par_jour.drop(deplacement_par_jour.columns.difference([\"start_date\",\"emplacement_pk_start\"]),1,inplace=True)\n"
     ]
    }
   ],
   "source": [
    "deplacement.start_date = deplacement.start_date.apply(lambda x: x.split(\" \")[0])\n",
    "deplacement_par_jour = deplacement.groupby(\"start_date\").count()\n",
    "deplacement_par_jour.sort_values(by=[\"start_date\"], inplace=True)\n",
    "deplacement_par_jour.drop(deplacement_par_jour.columns.difference([\"start_date\",\"emplacement_pk_start\"]),1,inplace=True)\n",
    "deplacement_par_jour.reset_index(inplace=True)\n",
    "deplacement_par_jour.rename({\"emplacement_pk_start\":\"nb\"},inplace=True,errors=\"raise\",axis=\"columns\")"
   ]
  },
  {
   "cell_type": "code",
   "execution_count": 4,
   "id": "eee59d0b-5afa-4385-bdbe-976b2f01d83d",
   "metadata": {},
   "outputs": [],
   "source": [
    "date_debut, date_fin= deplacement_par_jour['start_date'][0],deplacement_par_jour['start_date'][len(deplacement_par_jour)-1]\n",
    "date_debut, date_fin\n",
    "import requests\n",
    "\n",
    "r = requests.get('https://api.oikolab.com/weather',\n",
    "                 params={'param': ['temperature','wind_speed','total_precipitation'],\n",
    "                         'start': date_debut,\n",
    "                         'end': date_fin,\n",
    "                         'lat': 43.6529,\n",
    "                         'lon': -79.3849,\n",
    "                         'freq':'D',\n",
    "                         'api-key': '9bcc801713754ea5afb3a7aad60e263f'}\n",
    "                 )\n",
    "#svp ne pas réutiliser l'apikey qui est la mienne\n",
    "import json\n",
    "import pandas as pd\n",
    "\n",
    "weather_data = json.loads(r.json()['data'])\n",
    "df = pd.DataFrame(index=pd.to_datetime(weather_data['index'],\n",
    "                                       unit='s'),\n",
    "                  data=weather_data['data'],\n",
    "                  columns=weather_data['columns'])"
   ]
  },
  {
   "cell_type": "code",
   "execution_count": 5,
   "id": "4f15f69f-0610-4eb8-bc04-7c51f01f0218",
   "metadata": {},
   "outputs": [
    {
     "data": {
      "text/html": [
       "<div>\n",
       "<style scoped>\n",
       "    .dataframe tbody tr th:only-of-type {\n",
       "        vertical-align: middle;\n",
       "    }\n",
       "\n",
       "    .dataframe tbody tr th {\n",
       "        vertical-align: top;\n",
       "    }\n",
       "\n",
       "    .dataframe thead th {\n",
       "        text-align: right;\n",
       "    }\n",
       "</style>\n",
       "<table border=\"1\" class=\"dataframe\">\n",
       "  <thead>\n",
       "    <tr style=\"text-align: right;\">\n",
       "      <th></th>\n",
       "      <th>date</th>\n",
       "      <th>temp</th>\n",
       "      <th>wind</th>\n",
       "      <th>rain</th>\n",
       "    </tr>\n",
       "  </thead>\n",
       "  <tbody>\n",
       "    <tr>\n",
       "      <th>0</th>\n",
       "      <td>2021-04-09</td>\n",
       "      <td>10.68</td>\n",
       "      <td>4.25</td>\n",
       "      <td>0.11</td>\n",
       "    </tr>\n",
       "    <tr>\n",
       "      <th>1</th>\n",
       "      <td>2021-04-10</td>\n",
       "      <td>10.12</td>\n",
       "      <td>3.52</td>\n",
       "      <td>0.00</td>\n",
       "    </tr>\n",
       "    <tr>\n",
       "      <th>2</th>\n",
       "      <td>2021-04-11</td>\n",
       "      <td>9.83</td>\n",
       "      <td>4.33</td>\n",
       "      <td>0.92</td>\n",
       "    </tr>\n",
       "    <tr>\n",
       "      <th>3</th>\n",
       "      <td>2021-04-12</td>\n",
       "      <td>7.28</td>\n",
       "      <td>4.47</td>\n",
       "      <td>0.27</td>\n",
       "    </tr>\n",
       "    <tr>\n",
       "      <th>4</th>\n",
       "      <td>2021-04-13</td>\n",
       "      <td>6.45</td>\n",
       "      <td>2.21</td>\n",
       "      <td>0.01</td>\n",
       "    </tr>\n",
       "  </tbody>\n",
       "</table>\n",
       "</div>"
      ],
      "text/plain": [
       "        date   temp  wind  rain\n",
       "0 2021-04-09  10.68  4.25  0.11\n",
       "1 2021-04-10  10.12  3.52  0.00\n",
       "2 2021-04-11   9.83  4.33  0.92\n",
       "3 2021-04-12   7.28  4.47  0.27\n",
       "4 2021-04-13   6.45  2.21  0.01"
      ]
     },
     "execution_count": 5,
     "metadata": {},
     "output_type": "execute_result"
    }
   ],
   "source": [
    "df2 = df.drop(columns=[\"model (name)\", \"coordinates (lat,lon)\",\"utc_offset (hrs)\",\"model elevation (surface)\"])\n",
    "df2.rename({\"temperature (degC)\":\"temp\", \"wind_speed (m/s)\":\"wind\", \"total_precipitation (mm of water equivalent)\":\"rain\"},errors=\"raise\",axis='columns',inplace=True)\n",
    "df2.index.name = \"date\"\n",
    "df2.reset_index(inplace=True)\n",
    "df2.head()"
   ]
  },
  {
   "cell_type": "code",
   "execution_count": 6,
   "id": "ee9a1048-c2e7-4330-8776-c07e43345c5d",
   "metadata": {},
   "outputs": [
    {
     "data": {
      "text/plain": [
       "(      nb       date   temp  wind  rain Day of Week  Month\n",
       " 0   8255 2021-04-09  10.68  4.25  0.11      Friday      4\n",
       " 1  16889 2021-04-10  10.12  3.52  0.00    Saturday      4\n",
       " 2  13475 2021-04-11   9.83  4.33  0.92      Sunday      4\n",
       " 3   9508 2021-04-12   7.28  4.47  0.27      Monday      4\n",
       " 4  13433 2021-04-13   6.45  2.21  0.01     Tuesday      4,\n",
       "         nb       date   temp  wind  rain Day of Week  Month\n",
       " 216  20620 2021-11-11   9.23  5.79  0.04    Thursday     11\n",
       " 217  11907 2021-11-12  11.15  6.18  0.19      Friday     11\n",
       " 218  12095 2021-11-13   6.16  6.12  0.05    Saturday     11\n",
       " 219  13543 2021-11-14   4.15  6.21  0.21      Sunday     11\n",
       " 220  10064 2021-11-15   2.83  4.00  0.72      Monday     11)"
      ]
     },
     "execution_count": 6,
     "metadata": {},
     "output_type": "execute_result"
    }
   ],
   "source": [
    "deplacement_par_jour[\"start_date\"] = pd.to_datetime(deplacement_par_jour[\"start_date\"])\n",
    "df = deplacement_par_jour.merge(df2, left_on=\"start_date\", right_on=\"date\")\n",
    "df.drop(columns=\"start_date\",inplace=True)\n",
    "df['Day of Week'] = df['date'].dt.day_name()\n",
    "df[\"Month\"]=df[\"date\"].dt.month\n",
    "df.head(),df.tail()"
   ]
  },
  {
   "cell_type": "code",
   "execution_count": 7,
   "id": "be3aace8-2aab-4434-ba0c-af36c5344d04",
   "metadata": {},
   "outputs": [
    {
     "data": {
      "text/plain": [
       "<matplotlib.collections.PathCollection at 0x7f7b224190>"
      ]
     },
     "execution_count": 7,
     "metadata": {},
     "output_type": "execute_result"
    },
    {
     "data": {
      "image/png": "[encoded data removed]",
      "text/plain": [
       "<Figure size 864x648 with 3 Axes>"
      ]
     },
     "metadata": {
      "needs_background": "light"
     },
     "output_type": "display_data"
    }
   ],
   "source": [
    "plt.figure(figsize=(12,9))\n",
    "plt.subplot(2, 2, 1)\n",
    "data = {\"nb\" : df[\"nb\"],\n",
    "        \"rain\": df[\"rain\"]}\n",
    "plt.xlabel(\"Niveau de pluie(mm)\")\n",
    "plt.scatter(\"rain\",\"nb\",data=df)\n",
    "\n",
    "plt.subplot(2,2,2)\n",
    "data = {\"nb\" : df[\"nb\"],\n",
    "        \"temp\": df[\"temp\"]}\n",
    "plt.xlabel(\"Température °C\")\n",
    "plt.scatter(\"temp\",\"nb\",data=df)\n",
    "\n",
    "plt.subplot(2,2,3)\n",
    "data = {\"nb\" : df[\"nb\"],\n",
    "        \"wind\": df[\"wind\"]}\n",
    "plt.xlabel(\"Vent (m/s)\")\n",
    "plt.scatter(\"wind\",\"nb\",data=data)\n"
   ]
  },
  {
   "cell_type": "markdown",
   "id": "06a123fa-631b-466d-9238-f044e2d7862c",
   "metadata": {},
   "source": [
    "On peux émettre une première hypothèse que le nombre de déplacement est fortement corrélés à la pluie et à la température."
   ]
  },
  {
   "cell_type": "code",
   "execution_count": 8,
   "id": "1da65c2e-f690-4590-8991-5baf2ed0b14d",
   "metadata": {},
   "outputs": [],
   "source": [
    "df.to_csv('../data/meteo_2021.csv',index=False)"
   ]
  }
 ],
 "metadata": {
  "kernelspec": {
   "display_name": "Python 3 (ipykernel)",
   "language": "python",
   "name": "python3"
  },
  "language_info": {
   "codemirror_mode": {
    "name": "ipython",
    "version": 3
   },
   "file_extension": ".py",
   "mimetype": "text/x-python",
   "name": "python",
   "nbconvert_exporter": "python",
   "pygments_lexer": "ipython3",
   "version": "3.9.2"
  }
 },
 "nbformat": 4,
 "nbformat_minor": 5
}
