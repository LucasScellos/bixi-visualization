{
 "cells": [
  {
   "cell_type": "code",
   "execution_count": null,
   "id": "c3aad037-09a6-4aa1-99be-7b05b599d391",
   "metadata": {},
   "outputs": [],
   "source": [
    "import pandas as pd \n",
    "from datetime import datetime"
   ]
  },
  {
   "cell_type": "code",
   "execution_count": null,
   "id": "25ea8e29-86fc-4d79-8179-ba505c9f9273",
   "metadata": {},
   "outputs": [],
   "source": [
    "deplacement = pd.read_csv('../data/2021_donnees_ouvertes.csv')\n"
   ]
  },
  {
   "cell_type": "code",
   "execution_count": null,
   "id": "f8aed99f-e03d-4158-a302-22ad1c145304",
   "metadata": {},
   "outputs": [],
   "source": [
    "stations = pd.read_csv('../data/2021_stations.csv')\n",
    "stations.loc[stations[\"latitude\"]==-1.0, \"latitude\"]=45.49277\n",
    "stations.loc[stations[\"longitude\"]==-1.0, \"longitude\"]=-73.55641\n"
   ]
  },
  {
   "cell_type": "code",
   "execution_count": null,
   "id": "3f39cc91-f067-4cf2-8454-61b8c8e88bf1",
   "metadata": {},
   "outputs": [],
   "source": [
    "deplacement_start = deplacement.groupby(\"emplacement_pk_start\").count()\n",
    "pickup_station = deplacement_start.merge(stations, left_on=\"emplacement_pk_start\", right_on=\"pk\")\n",
    "pickup_station = pickup_station.drop(columns=[\"start_date\",\"end_date\",\"emplacement_pk_end\",\"duration_sec\"])\n",
    "pickup_station.rename({\"is_member\":\"nb\"},errors=\"raise\",axis='columns',inplace=True)\n",
    "pickup_station.set_index(\"name\")"
   ]
  },
  {
   "cell_type": "code",
   "execution_count": null,
   "id": "38543fa4-8a39-472e-80f8-57c219bbadad",
   "metadata": {},
   "outputs": [],
   "source": [
    "from pathlib import Path\n",
    "filepath = Path('data/station_depart2.csv')\n",
    "pickup_station.to_csv(filepath)"
   ]
  },
  {
   "cell_type": "code",
   "execution_count": null,
   "id": "0890683b-9ba9-4204-ac21-962f55507c67",
   "metadata": {},
   "outputs": [],
   "source": [
    "deplacement_end = deplacement.groupby(\"emplacement_pk_end\").count()\n",
    "drop_off_station = deplacement_start.merge(stations, left_on=\"emplacement_pk_start\", right_on=\"pk\")\n",
    "drop_off_station = drop_off_station.drop(columns=[\"start_date\",\"end_date\",\"emplacement_pk_end\",\"duration_sec\"])\n",
    "drop_off_station.rename({\"is_member\":\"nb\"},errors=\"raise\",axis='columns',inplace=True)\n",
    "drop_off_station.set_index(\"name\")"
   ]
  },
  {
   "cell_type": "code",
   "execution_count": null,
   "id": "ab1177be-861c-42b6-a904-da5ee610b289",
   "metadata": {},
   "outputs": [],
   "source": [
    "filepath = Path('../data/dropoff_station.csv')\n",
    "drop_off_station.to_csv(filepath)"
   ]
  }
 ],
 "metadata": {
  "kernelspec": {
   "display_name": "Python 3.9.7 64-bit",
   "language": "python",
   "name": "python3"
  },
  "language_info": {
   "codemirror_mode": {
    "name": "ipython",
    "version": 3
   },
   "file_extension": ".py",
   "mimetype": "text/x-python",
   "name": "python",
   "nbconvert_exporter": "python",
   "pygments_lexer": "ipython3",
   "version": "3.9.7"
  },
  "vscode": {
   "interpreter": {
    "hash": "a581282fe4ae0358a74a72c6c02278fa42c707e80ec4df3ba6158f5b95d6b699"
   }
  }
 },
 "nbformat": 4,
 "nbformat_minor": 5
}
