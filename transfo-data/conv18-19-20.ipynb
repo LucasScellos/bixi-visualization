{
 "cells": [
  {
   "cell_type": "code",
   "execution_count": 1,
   "id": "b7cc0c82-ef29-485c-a19c-6a6e83b81010",
   "metadata": {},
   "outputs": [],
   "source": [
    "import pandas as pd \n",
    "from datetime import datetime\n",
    "import glob\n",
    "import os"
   ]
  },
  {
   "cell_type": "code",
   "execution_count": null,
   "id": "6cb55fae-894c-41b4-ac0c-42695651e9dd",
   "metadata": {},
   "outputs": [],
   "source": [
    "files = os.path.join(\"../transfo-data/\", \"OD_2018*.csv\")\n",
    "files = glob.glob(files)\n",
    "files"
   ]
  },
  {
   "cell_type": "code",
   "execution_count": null,
   "id": "617f83ab-087e-46f1-9f2f-4bed0c4588fb",
   "metadata": {},
   "outputs": [],
   "source": [
    "df2018 = pd.concat(map(pd.read_csv, files), ignore_index=True)\n",
    "df2018.start_date = df2018.start_date.apply(lambda x: x.split(\" \")[0])\n",
    "df2018_daily = df2018.groupby(\"start_date\").count()\n",
    "df2018_daily.drop(df2018_daily.columns.difference([\"start_date\",\"start_station_code\"]),axis = 1,inplace=True)\n",
    "df2018_daily.reset_index(inplace=True)\n",
    "df2018_daily.rename({\"start_station_code\":\"nb\"},inplace=True,errors=\"raise\",axis=\"columns\")\n",
    "df2018_daily.sort_values(by=[\"start_date\"], inplace=True)\n",
    "df2018_daily.head()\n"
   ]
  },
  {
   "cell_type": "code",
   "execution_count": 2,
   "id": "a1fbe6be-d447-47e7-890e-a39325a01324",
   "metadata": {},
   "outputs": [
    {
     "data": {
      "text/plain": [
       "['../transfo-data/OD_2019-10.csv',\n",
       " '../transfo-data/OD_2019-04.csv',\n",
       " '../transfo-data/OD_2019-08.csv',\n",
       " '../transfo-data/OD_2019-09.csv',\n",
       " '../transfo-data/OD_2019-07.csv',\n",
       " '../transfo-data/OD_2019-06.csv',\n",
       " '../transfo-data/OD_2019-05.csv']"
      ]
     },
     "execution_count": 2,
     "metadata": {},
     "output_type": "execute_result"
    }
   ],
   "source": [
    "files19 = os.path.join(\"../transfo-data/\", \"OD_2019*.csv\")\n",
    "files19 = glob.glob(files19)\n",
    "files19"
   ]
  },
  {
   "cell_type": "code",
   "execution_count": 6,
   "id": "b3314b3d-ac55-4a91-9cc0-e0ae8bdd1862",
   "metadata": {},
   "outputs": [
    {
     "data": {
      "text/html": [
       "<div>\n",
       "<style scoped>\n",
       "    .dataframe tbody tr th:only-of-type {\n",
       "        vertical-align: middle;\n",
       "    }\n",
       "\n",
       "    .dataframe tbody tr th {\n",
       "        vertical-align: top;\n",
       "    }\n",
       "\n",
       "    .dataframe thead th {\n",
       "        text-align: right;\n",
       "    }\n",
       "</style>\n",
       "<table border=\"1\" class=\"dataframe\">\n",
       "  <thead>\n",
       "    <tr style=\"text-align: right;\">\n",
       "      <th></th>\n",
       "      <th>start_date</th>\n",
       "      <th>nb</th>\n",
       "    </tr>\n",
       "  </thead>\n",
       "  <tbody>\n",
       "    <tr>\n",
       "      <th>0</th>\n",
       "      <td>2019-04-14</td>\n",
       "      <td>9143</td>\n",
       "    </tr>\n",
       "    <tr>\n",
       "      <th>1</th>\n",
       "      <td>2019-04-15</td>\n",
       "      <td>7310</td>\n",
       "    </tr>\n",
       "    <tr>\n",
       "      <th>2</th>\n",
       "      <td>2019-04-16</td>\n",
       "      <td>13672</td>\n",
       "    </tr>\n",
       "    <tr>\n",
       "      <th>3</th>\n",
       "      <td>2019-04-17</td>\n",
       "      <td>19726</td>\n",
       "    </tr>\n",
       "    <tr>\n",
       "      <th>4</th>\n",
       "      <td>2019-04-18</td>\n",
       "      <td>13505</td>\n",
       "    </tr>\n",
       "  </tbody>\n",
       "</table>\n",
       "</div>"
      ],
      "text/plain": [
       "   start_date     nb\n",
       "0  2019-04-14   9143\n",
       "1  2019-04-15   7310\n",
       "2  2019-04-16  13672\n",
       "3  2019-04-17  19726\n",
       "4  2019-04-18  13505"
      ]
     },
     "execution_count": 6,
     "metadata": {},
     "output_type": "execute_result"
    }
   ],
   "source": [
    "df2019 = pd.concat(map(pd.read_csv, files19), ignore_index=True)\n",
    "df2019.drop(df2019.columns.difference([\"start_date\",\"start_station_code\"]),axis = 1,inplace=True)\n",
    "df2019.start_date = df2019.start_date.apply(lambda x: x.split(\" \")[0])\n",
    "df2019_daily = df2019.groupby(\"start_date\").count()\n",
    "df2019_daily.reset_index(inplace=True)\n",
    "df2019_daily.rename({\"start_station_code\":\"nb\"},inplace=True,errors=\"raise\",axis=\"columns\")\n",
    "df2019_daily.sort_values(by=[\"start_date\"], inplace=True)\n",
    "df2019_daily.head()"
   ]
  },
  {
   "cell_type": "code",
   "execution_count": 8,
   "id": "ef1170c6-cec9-4bce-ad54-ad52291bac4d",
   "metadata": {},
   "outputs": [],
   "source": [
    "df2019_daily.to_csv('../data/2019nb.csv',index=False)"
   ]
  },
  {
   "cell_type": "code",
   "execution_count": 9,
   "id": "a33b9df5-a676-4f5c-8e90-db1adb96484e",
   "metadata": {},
   "outputs": [
    {
     "data": {
      "text/html": [
       "<div>\n",
       "<style scoped>\n",
       "    .dataframe tbody tr th:only-of-type {\n",
       "        vertical-align: middle;\n",
       "    }\n",
       "\n",
       "    .dataframe tbody tr th {\n",
       "        vertical-align: top;\n",
       "    }\n",
       "\n",
       "    .dataframe thead th {\n",
       "        text-align: right;\n",
       "    }\n",
       "</style>\n",
       "<table border=\"1\" class=\"dataframe\">\n",
       "  <thead>\n",
       "    <tr style=\"text-align: right;\">\n",
       "      <th></th>\n",
       "      <th>start_date</th>\n",
       "      <th>start_station_code</th>\n",
       "      <th>end_date</th>\n",
       "      <th>end_station_code</th>\n",
       "      <th>duration_sec</th>\n",
       "      <th>is_member</th>\n",
       "    </tr>\n",
       "  </thead>\n",
       "  <tbody>\n",
       "    <tr>\n",
       "      <th>0</th>\n",
       "      <td>2020-04-15 06:00:04</td>\n",
       "      <td>6212</td>\n",
       "      <td>2020-04-15 06:20:54</td>\n",
       "      <td>6250</td>\n",
       "      <td>1250</td>\n",
       "      <td>1</td>\n",
       "    </tr>\n",
       "    <tr>\n",
       "      <th>1</th>\n",
       "      <td>2020-04-15 06:05:41</td>\n",
       "      <td>6369</td>\n",
       "      <td>2020-04-15 06:32:47</td>\n",
       "      <td>6072</td>\n",
       "      <td>1626</td>\n",
       "      <td>1</td>\n",
       "    </tr>\n",
       "    <tr>\n",
       "      <th>2</th>\n",
       "      <td>2020-04-15 06:07:27</td>\n",
       "      <td>6207</td>\n",
       "      <td>2020-04-15 06:19:32</td>\n",
       "      <td>7038</td>\n",
       "      <td>724</td>\n",
       "      <td>1</td>\n",
       "    </tr>\n",
       "    <tr>\n",
       "      <th>3</th>\n",
       "      <td>2020-04-15 06:09:16</td>\n",
       "      <td>6202</td>\n",
       "      <td>2020-04-15 06:18:49</td>\n",
       "      <td>6212</td>\n",
       "      <td>572</td>\n",
       "      <td>1</td>\n",
       "    </tr>\n",
       "    <tr>\n",
       "      <th>4</th>\n",
       "      <td>2020-04-15 06:09:38</td>\n",
       "      <td>6159</td>\n",
       "      <td>2020-04-15 06:24:23</td>\n",
       "      <td>7067</td>\n",
       "      <td>885</td>\n",
       "      <td>1</td>\n",
       "    </tr>\n",
       "  </tbody>\n",
       "</table>\n",
       "</div>"
      ],
      "text/plain": [
       "            start_date  start_station_code             end_date  \\\n",
       "0  2020-04-15 06:00:04                6212  2020-04-15 06:20:54   \n",
       "1  2020-04-15 06:05:41                6369  2020-04-15 06:32:47   \n",
       "2  2020-04-15 06:07:27                6207  2020-04-15 06:19:32   \n",
       "3  2020-04-15 06:09:16                6202  2020-04-15 06:18:49   \n",
       "4  2020-04-15 06:09:38                6159  2020-04-15 06:24:23   \n",
       "\n",
       "   end_station_code  duration_sec  is_member  \n",
       "0              6250          1250          1  \n",
       "1              6072          1626          1  \n",
       "2              7038           724          1  \n",
       "3              6212           572          1  \n",
       "4              7067           885          1  "
      ]
     },
     "execution_count": 9,
     "metadata": {},
     "output_type": "execute_result"
    }
   ],
   "source": [
    "df2020 = pd.read_csv('../transfo-data/OD_2020.csv')\n",
    "df2020.head()"
   ]
  },
  {
   "cell_type": "code",
   "execution_count": 10,
   "id": "4260e76f-524b-422d-a315-e62cab81fdd3",
   "metadata": {},
   "outputs": [
    {
     "data": {
      "text/html": [
       "<div>\n",
       "<style scoped>\n",
       "    .dataframe tbody tr th:only-of-type {\n",
       "        vertical-align: middle;\n",
       "    }\n",
       "\n",
       "    .dataframe tbody tr th {\n",
       "        vertical-align: top;\n",
       "    }\n",
       "\n",
       "    .dataframe thead th {\n",
       "        text-align: right;\n",
       "    }\n",
       "</style>\n",
       "<table border=\"1\" class=\"dataframe\">\n",
       "  <thead>\n",
       "    <tr style=\"text-align: right;\">\n",
       "      <th></th>\n",
       "      <th>start_date</th>\n",
       "      <th>nb</th>\n",
       "    </tr>\n",
       "  </thead>\n",
       "  <tbody>\n",
       "    <tr>\n",
       "      <th>0</th>\n",
       "      <td>2020-04-15</td>\n",
       "      <td>2566</td>\n",
       "    </tr>\n",
       "    <tr>\n",
       "      <th>1</th>\n",
       "      <td>2020-04-16</td>\n",
       "      <td>2345</td>\n",
       "    </tr>\n",
       "    <tr>\n",
       "      <th>2</th>\n",
       "      <td>2020-04-17</td>\n",
       "      <td>2801</td>\n",
       "    </tr>\n",
       "    <tr>\n",
       "      <th>3</th>\n",
       "      <td>2020-04-18</td>\n",
       "      <td>6235</td>\n",
       "    </tr>\n",
       "    <tr>\n",
       "      <th>4</th>\n",
       "      <td>2020-04-19</td>\n",
       "      <td>1997</td>\n",
       "    </tr>\n",
       "  </tbody>\n",
       "</table>\n",
       "</div>"
      ],
      "text/plain": [
       "   start_date    nb\n",
       "0  2020-04-15  2566\n",
       "1  2020-04-16  2345\n",
       "2  2020-04-17  2801\n",
       "3  2020-04-18  6235\n",
       "4  2020-04-19  1997"
      ]
     },
     "execution_count": 10,
     "metadata": {},
     "output_type": "execute_result"
    }
   ],
   "source": [
    "df2020.drop(df2020.columns.difference([\"start_date\",\"start_station_code\"]),axis = 1,inplace=True)\n",
    "df2020.start_date = df2020.start_date.apply(lambda x: x.split(\" \")[0])\n",
    "df2020_daily = df2020.groupby(\"start_date\").count()\n",
    "df2020_daily.reset_index(inplace=True)\n",
    "df2020_daily.rename({\"start_station_code\":\"nb\"},inplace=True,errors=\"raise\",axis=\"columns\")\n",
    "df2020_daily.sort_values(by=[\"start_date\"], inplace=True)\n",
    "df2020_daily.head()"
   ]
  },
  {
   "cell_type": "code",
   "execution_count": 11,
   "id": "7ef1ed85-391a-4658-80ed-a16425331f71",
   "metadata": {},
   "outputs": [],
   "source": [
    "df2020_daily.to_csv('../data/2020nb.csv',index=False)"
   ]
  }
 ],
 "metadata": {
  "kernelspec": {
   "display_name": "Python 3 (ipykernel)",
   "language": "python",
   "name": "python3"
  },
  "language_info": {
   "codemirror_mode": {
    "name": "ipython",
    "version": 3
   },
   "file_extension": ".py",
   "mimetype": "text/x-python",
   "name": "python",
   "nbconvert_exporter": "python",
   "pygments_lexer": "ipython3",
   "version": "3.9.2"
  }
 },
 "nbformat": 4,
 "nbformat_minor": 5
}
