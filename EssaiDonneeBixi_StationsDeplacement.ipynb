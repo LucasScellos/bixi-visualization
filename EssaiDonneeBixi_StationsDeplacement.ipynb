{
 "cells": [
  {
   "cell_type": "code",
   "execution_count": 56,
   "id": "603fc9c3-f29b-4b0e-98fc-a12febecc171",
   "metadata": {},
   "outputs": [
    {
     "ename": "ModuleNotFoundError",
     "evalue": "No module named 'matplotlib'",
     "output_type": "error",
     "traceback": [
      "\u001b[0;31m---------------------------------------------------------------------------\u001b[0m",
      "\u001b[0;31mModuleNotFoundError\u001b[0m                       Traceback (most recent call last)",
      "\u001b[0;32m/var/folders/26/8fmjr0hs0h14840tjltjvpjw0000gn/T/ipykernel_1154/1645405874.py\u001b[0m in \u001b[0;36m<module>\u001b[0;34m\u001b[0m\n\u001b[1;32m      1\u001b[0m \u001b[0;32mimport\u001b[0m \u001b[0mcsv\u001b[0m\u001b[0;34m\u001b[0m\u001b[0;34m\u001b[0m\u001b[0m\n\u001b[1;32m      2\u001b[0m \u001b[0;32mimport\u001b[0m \u001b[0mpandas\u001b[0m \u001b[0;32mas\u001b[0m \u001b[0mpd\u001b[0m\u001b[0;34m\u001b[0m\u001b[0;34m\u001b[0m\u001b[0m\n\u001b[0;32m----> 3\u001b[0;31m \u001b[0;32mimport\u001b[0m \u001b[0mmatplotlib\u001b[0m \u001b[0;32mas\u001b[0m \u001b[0mplt\u001b[0m\u001b[0;34m\u001b[0m\u001b[0;34m\u001b[0m\u001b[0m\n\u001b[0m",
      "\u001b[0;31mModuleNotFoundError\u001b[0m: No module named 'matplotlib'"
     ]
    }
   ],
   "source": [
    "import csv\n",
    "import pandas as pd"
   ]
  },
  {
   "cell_type": "code",
   "execution_count": 2,
   "id": "9205b07b-8e7b-41ee-b609-875608d8c624",
   "metadata": {},
   "outputs": [],
   "source": [
    "stations = pd.read_csv('data/2021_stations.csv')\n",
    "deplacement2021 = pd.read_csv('data/2021_donnees_ouvertes.csv')"
   ]
  },
  {
   "cell_type": "code",
   "execution_count": 3,
   "id": "4fb35ba6-903d-43b0-a46c-cfd2c635c068",
   "metadata": {},
   "outputs": [
    {
     "data": {
      "text/html": [
       "<div>\n",
       "<style scoped>\n",
       "    .dataframe tbody tr th:only-of-type {\n",
       "        vertical-align: middle;\n",
       "    }\n",
       "\n",
       "    .dataframe tbody tr th {\n",
       "        vertical-align: top;\n",
       "    }\n",
       "\n",
       "    .dataframe thead th {\n",
       "        text-align: right;\n",
       "    }\n",
       "</style>\n",
       "<table border=\"1\" class=\"dataframe\">\n",
       "  <thead>\n",
       "    <tr style=\"text-align: right;\">\n",
       "      <th></th>\n",
       "      <th>start_date</th>\n",
       "      <th>emplacement_pk_start</th>\n",
       "      <th>end_date</th>\n",
       "      <th>emplacement_pk_end</th>\n",
       "      <th>duration_sec</th>\n",
       "      <th>is_member</th>\n",
       "    </tr>\n",
       "  </thead>\n",
       "  <tbody>\n",
       "    <tr>\n",
       "      <th>0</th>\n",
       "      <td>2021-05-21 17:21:44.934</td>\n",
       "      <td>10</td>\n",
       "      <td>2021-05-21 18:07:58.699</td>\n",
       "      <td>10</td>\n",
       "      <td>2773</td>\n",
       "      <td>1</td>\n",
       "    </tr>\n",
       "    <tr>\n",
       "      <th>1</th>\n",
       "      <td>2021-06-12 14:45:02.959</td>\n",
       "      <td>10</td>\n",
       "      <td>2021-06-12 15:11:14.937</td>\n",
       "      <td>187</td>\n",
       "      <td>1571</td>\n",
       "      <td>0</td>\n",
       "    </tr>\n",
       "    <tr>\n",
       "      <th>2</th>\n",
       "      <td>2021-08-27 08:19:17.396</td>\n",
       "      <td>10</td>\n",
       "      <td>2021-08-27 08:29:04.477</td>\n",
       "      <td>506</td>\n",
       "      <td>587</td>\n",
       "      <td>1</td>\n",
       "    </tr>\n",
       "    <tr>\n",
       "      <th>3</th>\n",
       "      <td>2021-06-11 19:07:28.724</td>\n",
       "      <td>10</td>\n",
       "      <td>2021-06-11 19:50:30.214</td>\n",
       "      <td>10</td>\n",
       "      <td>2581</td>\n",
       "      <td>0</td>\n",
       "    </tr>\n",
       "    <tr>\n",
       "      <th>4</th>\n",
       "      <td>2021-05-25 07:19:29.669</td>\n",
       "      <td>10</td>\n",
       "      <td>2021-05-25 07:47:42.001</td>\n",
       "      <td>423</td>\n",
       "      <td>1692</td>\n",
       "      <td>1</td>\n",
       "    </tr>\n",
       "  </tbody>\n",
       "</table>\n",
       "</div>"
      ],
      "text/plain": [
       "                start_date  emplacement_pk_start                 end_date  \\\n",
       "0  2021-05-21 17:21:44.934                    10  2021-05-21 18:07:58.699   \n",
       "1  2021-06-12 14:45:02.959                    10  2021-06-12 15:11:14.937   \n",
       "2  2021-08-27 08:19:17.396                    10  2021-08-27 08:29:04.477   \n",
       "3  2021-06-11 19:07:28.724                    10  2021-06-11 19:50:30.214   \n",
       "4  2021-05-25 07:19:29.669                    10  2021-05-25 07:47:42.001   \n",
       "\n",
       "   emplacement_pk_end  duration_sec  is_member  \n",
       "0                  10          2773          1  \n",
       "1                 187          1571          0  \n",
       "2                 506           587          1  \n",
       "3                  10          2581          0  \n",
       "4                 423          1692          1  "
      ]
     },
     "execution_count": 3,
     "metadata": {},
     "output_type": "execute_result"
    }
   ],
   "source": [
    "deplacement2021.head()"
   ]
  },
  {
   "cell_type": "code",
   "execution_count": 4,
   "id": "89bd13d2-3ea4-433d-a42d-5f1f0afd4bb3",
   "metadata": {},
   "outputs": [
    {
     "data": {
      "text/html": [
       "<div>\n",
       "<style scoped>\n",
       "    .dataframe tbody tr th:only-of-type {\n",
       "        vertical-align: middle;\n",
       "    }\n",
       "\n",
       "    .dataframe tbody tr th {\n",
       "        vertical-align: top;\n",
       "    }\n",
       "\n",
       "    .dataframe thead th {\n",
       "        text-align: right;\n",
       "    }\n",
       "</style>\n",
       "<table border=\"1\" class=\"dataframe\">\n",
       "  <thead>\n",
       "    <tr style=\"text-align: right;\">\n",
       "      <th></th>\n",
       "      <th>pk</th>\n",
       "      <th>name</th>\n",
       "      <th>latitude</th>\n",
       "      <th>longitude</th>\n",
       "    </tr>\n",
       "  </thead>\n",
       "  <tbody>\n",
       "    <tr>\n",
       "      <th>0</th>\n",
       "      <td>10</td>\n",
       "      <td>Métro Angrignon (Lamont /  des Trinitaires)</td>\n",
       "      <td>45.446910</td>\n",
       "      <td>-73.603630</td>\n",
       "    </tr>\n",
       "    <tr>\n",
       "      <th>1</th>\n",
       "      <td>13</td>\n",
       "      <td>Métro de l'Église (Ross / de l'Église)</td>\n",
       "      <td>45.462726</td>\n",
       "      <td>-73.565959</td>\n",
       "    </tr>\n",
       "    <tr>\n",
       "      <th>2</th>\n",
       "      <td>17</td>\n",
       "      <td>Tolhurst / Fleury</td>\n",
       "      <td>45.544149</td>\n",
       "      <td>-73.667520</td>\n",
       "    </tr>\n",
       "    <tr>\n",
       "      <th>3</th>\n",
       "      <td>21</td>\n",
       "      <td>St-Christophe / Cherrier</td>\n",
       "      <td>45.520290</td>\n",
       "      <td>-73.568119</td>\n",
       "    </tr>\n",
       "    <tr>\n",
       "      <th>4</th>\n",
       "      <td>31</td>\n",
       "      <td>Lespérance / de Rouen</td>\n",
       "      <td>45.538839</td>\n",
       "      <td>-73.552779</td>\n",
       "    </tr>\n",
       "  </tbody>\n",
       "</table>\n",
       "</div>"
      ],
      "text/plain": [
       "   pk                                         name   latitude  longitude\n",
       "0  10  Métro Angrignon (Lamont /  des Trinitaires)  45.446910 -73.603630\n",
       "1  13       Métro de l'Église (Ross / de l'Église)  45.462726 -73.565959\n",
       "2  17                            Tolhurst / Fleury  45.544149 -73.667520\n",
       "3  21                     St-Christophe / Cherrier  45.520290 -73.568119\n",
       "4  31                        Lespérance / de Rouen  45.538839 -73.552779"
      ]
     },
     "execution_count": 4,
     "metadata": {},
     "output_type": "execute_result"
    }
   ],
   "source": [
    "stations.head()"
   ]
  },
  {
   "cell_type": "code",
   "execution_count": 37,
   "id": "4d4e18bf-f730-49ed-bc5a-c4f88e76128e",
   "metadata": {},
   "outputs": [
    {
     "data": {
      "text/plain": [
       "start_date              0\n",
       "emplacement_pk_start    0\n",
       "end_date                0\n",
       "emplacement_pk_end      0\n",
       "duration_sec            0\n",
       "is_member               0\n",
       "dtype: int64"
      ]
     },
     "execution_count": 37,
     "metadata": {},
     "output_type": "execute_result"
    }
   ],
   "source": [
    "deplacement2021.isnull().sum()"
   ]
  },
  {
   "cell_type": "code",
   "execution_count": 41,
   "id": "b2a71f7d-9361-4d29-8a70-45d38edbb5e0",
   "metadata": {},
   "outputs": [
    {
     "data": {
      "text/plain": [
       "(256     47793\n",
       " 242     35899\n",
       " 173     35731\n",
       " 330     31685\n",
       " 167     31229\n",
       "         ...  \n",
       " 1140        9\n",
       " 893         7\n",
       " 904         7\n",
       " 1014        2\n",
       " 1136        1\n",
       " Name: emplacement_pk_start, Length: 825, dtype: int64,\n",
       " 256     47203\n",
       " 173     35689\n",
       " 470     34669\n",
       " 242     31843\n",
       " 332     31497\n",
       "         ...  \n",
       " 1014        2\n",
       " 1136        2\n",
       " 969         1\n",
       " 1021        1\n",
       " 977         1\n",
       " Name: emplacement_pk_end, Length: 829, dtype: int64)"
      ]
     },
     "execution_count": 41,
     "metadata": {},
     "output_type": "execute_result"
    }
   ],
   "source": [
    "start_session = deplacement2021['emplacement_pk_start'].value_counts()\n",
    "end_session = deplacement2021['emplacement_pk_end'].value_counts()\n",
    "start_session, end_session"
   ]
  },
  {
   "cell_type": "code",
   "execution_count": 45,
   "id": "57038057-16b4-4c15-a847-7638bb80a899",
   "metadata": {},
   "outputs": [
    {
     "data": {
      "text/plain": [
       "(0.8236749693945931, 829)"
      ]
     },
     "execution_count": 45,
     "metadata": {},
     "output_type": "execute_result"
    }
   ],
   "source": [
    "deplacement2021['is_member'].sum()/len(deplacement2021), stations['name'].count()"
   ]
  },
  {
   "cell_type": "code",
   "execution_count": 50,
   "id": "6e4f6875-e2a1-4708-ba8c-163e6db5b1ec",
   "metadata": {},
   "outputs": [],
   "source": [
    "date_start = pd.to_datetime(deplacement2021['start_date'])"
   ]
  },
  {
   "cell_type": "code",
   "execution_count": 55,
   "id": "3301f27a-4c2a-44d6-acba-fd55a6e592c5",
   "metadata": {},
   "outputs": [
    {
     "data": {
      "text/plain": [
       "0           5\n",
       "1           6\n",
       "2           8\n",
       "3           6\n",
       "4           5\n",
       "           ..\n",
       "5490038    11\n",
       "5490039    11\n",
       "5490040    11\n",
       "5490041    11\n",
       "5490042    11\n",
       "Name: start_date, Length: 5490043, dtype: int64"
      ]
     },
     "execution_count": 55,
     "metadata": {},
     "output_type": "execute_result"
    }
   ],
   "source": [
    "date_start.dt.month."
   ]
  },
  {
   "cell_type": "code",
   "execution_count": 52,
   "id": "616fb0f1-f788-4de9-8d68-cb147590044c",
   "metadata": {},
   "outputs": [
    {
     "data": {
      "text/plain": [
       "0          4\n",
       "1          5\n",
       "2          4\n",
       "3          4\n",
       "4          1\n",
       "          ..\n",
       "5490038    3\n",
       "5490039    5\n",
       "5490040    3\n",
       "5490041    2\n",
       "5490042    6\n",
       "Name: start_date, Length: 5490043, dtype: int64"
      ]
     },
     "execution_count": 52,
     "metadata": {},
     "output_type": "execute_result"
    }
   ],
   "source": [
    "date_start.dt.weekday"
   ]
  }
 ],
 "metadata": {
  "kernelspec": {
   "display_name": "Python 3 (ipykernel)",
   "language": "python",
   "name": "python3"
  },
  "language_info": {
   "codemirror_mode": {
    "name": "ipython",
    "version": 3
   },
   "file_extension": ".py",
   "mimetype": "text/x-python",
   "name": "python",
   "nbconvert_exporter": "python",
   "pygments_lexer": "ipython3",
   "version": "3.9.9"
  }
 },
 "nbformat": 4,
 "nbformat_minor": 5
}
