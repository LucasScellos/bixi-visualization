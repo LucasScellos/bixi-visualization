{
 "cells": [
  {
   "cell_type": "code",
   "execution_count": 1,
   "id": "a011f4f9-a379-4d89-adcc-90fcbada2043",
   "metadata": {},
   "outputs": [],
   "source": [
    "import numpy as np \n",
    "import matplotlib.pyplot as plt\n",
    "import pandas as pd\n",
    "from sklearn.tree import DecisionTreeRegressor"
   ]
  },
  {
   "cell_type": "code",
   "execution_count": 2,
   "id": "daa8b663-1450-4f61-83ae-3c9487288995",
   "metadata": {},
   "outputs": [
    {
     "data": {
      "text/plain": [
       "(      nb        date   temp  wind  rain Day of Week\n",
       " 0   8255  2021-04-09  10.68  4.25  0.11      Friday\n",
       " 1  16889  2021-04-10  10.12  3.52  0.00    Saturday\n",
       " 2  13475  2021-04-11   9.83  4.33  0.92      Sunday\n",
       " 3   9508  2021-04-12   7.28  4.47  0.27      Monday\n",
       " 4  13433  2021-04-13   6.45  2.21  0.01     Tuesday,\n",
       " (221, 6))"
      ]
     },
     "execution_count": 2,
     "metadata": {},
     "output_type": "execute_result"
    }
   ],
   "source": [
    "df = pd.read_csv('../data/meteo_2021.csv')\n",
    "df.head(), np.shape(df)"
   ]
  },
  {
   "cell_type": "code",
   "execution_count": 3,
   "id": "00da02a3-8493-439a-87cb-0cce75a2347b",
   "metadata": {},
   "outputs": [],
   "source": [
    "X = df.iloc[:, [2, 3, 4]].values\n",
    "y = df.iloc[:, 0].values"
   ]
  },
  {
   "cell_type": "code",
   "execution_count": 4,
   "id": "18ddccc4-89ad-4cb2-b73d-20b90d864d08",
   "metadata": {},
   "outputs": [],
   "source": [
    "from sklearn.preprocessing import OneHotEncoder"
   ]
  },
  {
   "cell_type": "code",
   "execution_count": 5,
   "id": "13904fbe-ed52-4a9a-b4fd-e773ebdb3bfc",
   "metadata": {},
   "outputs": [],
   "source": [
    "categories = list(np.array([\"Monday\",\"Tuesday\",\"Wednesday\",\"Thursday\",\"Friday\",\"Saturday\",\"Sunday\"]).reshape(1,7))\n",
    "enco = OneHotEncoder(sparse=False,categories=categories)\n",
    "Xday = df.iloc[:, 5].values.reshape(-1, 1)\n",
    "Xnew = enco.fit_transform(Xday)\n",
    "Xfinal = np.hstack((X,Xnew))\n",
    "Xfinal[:10]"
   ]
  },
  {
   "cell_type": "code",
   "execution_count": 11,
   "id": "4971c581-8b8a-4923-aecc-6be7c31e3a45",
   "metadata": {},
   "outputs": [
    {
     "data": {
      "text/plain": [
       "0.7598850217505221"
      ]
     },
     "execution_count": 11,
     "metadata": {},
     "output_type": "execute_result"
    }
   ],
   "source": [
    "ab1 = DecisionTreeRegressor(max_depth=4)\n",
    "ab1.fit(Xfinal,y)\n",
    "ab1.score(Xfinal,y)"
   ]
  },
  {
   "cell_type": "markdown",
   "id": "ecbb692f-9db4-4d8f-ada6-98c63e031710",
   "metadata": {},
   "source": [
    "Au final, la différence est très faible ..."
   ]
  },
  {
   "cell_type": "code",
   "execution_count": 12,
   "id": "36498b34-7435-48c7-b863-b43d6aeabc14",
   "metadata": {},
   "outputs": [
    {
     "name": "stdout",
     "output_type": "stream",
     "text": [
      "|--- temp <= 11.55\n",
      "|   |--- temp <= 8.28\n",
      "|   |   |--- rain <= 0.04\n",
      "|   |   |   |--- temp <= 3.64\n",
      "|   |   |   |   |--- value: [8014.50]\n",
      "|   |   |   |--- temp >  3.64\n",
      "|   |   |   |   |--- value: [17724.76]\n",
      "|   |   |--- rain >  0.04\n",
      "|   |   |   |--- temp <= 5.91\n",
      "|   |   |   |   |--- value: [7043.33]\n",
      "|   |   |   |--- temp >  5.91\n",
      "|   |   |   |   |--- value: [11893.58]\n",
      "|   |--- temp >  8.28\n",
      "|   |   |--- wind <= 4.77\n",
      "|   |   |   |--- wind <= 4.23\n",
      "|   |   |   |   |--- value: [19328.44]\n",
      "|   |   |   |--- wind >  4.23\n",
      "|   |   |   |   |--- value: [9732.75]\n",
      "|   |   |--- wind >  4.77\n",
      "|   |   |   |--- temp <= 11.02\n",
      "|   |   |   |   |--- value: [22227.62]\n",
      "|   |   |   |--- temp >  11.02\n",
      "|   |   |   |   |--- value: [11907.00]\n",
      "|--- temp >  11.55\n",
      "|   |--- rain <= 0.18\n",
      "|   |   |--- temp <= 13.41\n",
      "|   |   |   |--- Saturday <= 0.50\n",
      "|   |   |   |   |--- value: [23137.14]\n",
      "|   |   |   |--- Saturday >  0.50\n",
      "|   |   |   |   |--- value: [27708.00]\n",
      "|   |   |--- temp >  13.41\n",
      "|   |   |   |--- wind <= 4.35\n",
      "|   |   |   |   |--- value: [30345.41]\n",
      "|   |   |   |--- wind >  4.35\n",
      "|   |   |   |   |--- value: [27890.74]\n",
      "|   |--- rain >  0.18\n",
      "|   |   |--- temp <= 16.00\n",
      "|   |   |   |--- rain <= 0.27\n",
      "|   |   |   |   |--- value: [20843.00]\n",
      "|   |   |   |--- rain >  0.27\n",
      "|   |   |   |   |--- value: [15274.50]\n",
      "|   |   |--- temp >  16.00\n",
      "|   |   |   |--- wind <= 6.05\n",
      "|   |   |   |   |--- value: [26830.29]\n",
      "|   |   |   |--- wind >  6.05\n",
      "|   |   |   |   |--- value: [17744.67]\n",
      "\n"
     ]
    }
   ],
   "source": [
    "from sklearn import tree\n",
    "variables = [\"temp\",\"wind\",\"rain\",\"Monday\",\"Tuesday\",\"Wednesday\",\"Thursday\",\"Friday\",\"Saturday\",\"Sunday\"]\n",
    "text_representation = tree.export_text(ab1,feature_names=variables)\n",
    "print(text_representation)"
   ]
  }
 ],
 "metadata": {
  "kernelspec": {
   "display_name": "Python 3 (ipykernel)",
   "language": "python",
   "name": "python3"
  },
  "language_info": {
   "codemirror_mode": {
    "name": "ipython",
    "version": 3
   },
   "file_extension": ".py",
   "mimetype": "text/x-python",
   "name": "python",
   "nbconvert_exporter": "python",
   "pygments_lexer": "ipython3",
   "version": "3.9.2"
  }
 },
 "nbformat": 4,
 "nbformat_minor": 5
}
