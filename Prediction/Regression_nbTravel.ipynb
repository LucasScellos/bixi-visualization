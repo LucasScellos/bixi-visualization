{
 "cells": [
  {
   "cell_type": "code",
   "execution_count": 1,
   "id": "8274fcc1-ac40-421e-9b60-5848f4cb74f3",
   "metadata": {},
   "outputs": [],
   "source": [
    "import pandas as pd \n",
    "import numpy as np\n",
    "import matplotlib.pyplot as plt\n",
    "import sklearn"
   ]
  },
  {
   "cell_type": "code",
   "execution_count": 2,
   "id": "f77725d3-a8e8-4f91-babe-e89fcdc9ba3b",
   "metadata": {},
   "outputs": [
    {
     "data": {
      "text/html": [
       "<div>\n",
       "<style scoped>\n",
       "    .dataframe tbody tr th:only-of-type {\n",
       "        vertical-align: middle;\n",
       "    }\n",
       "\n",
       "    .dataframe tbody tr th {\n",
       "        vertical-align: top;\n",
       "    }\n",
       "\n",
       "    .dataframe thead th {\n",
       "        text-align: right;\n",
       "    }\n",
       "</style>\n",
       "<table border=\"1\" class=\"dataframe\">\n",
       "  <thead>\n",
       "    <tr style=\"text-align: right;\">\n",
       "      <th></th>\n",
       "      <th>nb</th>\n",
       "      <th>date</th>\n",
       "      <th>temp</th>\n",
       "      <th>wind</th>\n",
       "      <th>rain</th>\n",
       "      <th>Dayweek</th>\n",
       "      <th>Month</th>\n",
       "    </tr>\n",
       "  </thead>\n",
       "  <tbody>\n",
       "    <tr>\n",
       "      <th>0</th>\n",
       "      <td>8255</td>\n",
       "      <td>2021-04-09</td>\n",
       "      <td>10.68</td>\n",
       "      <td>4.25</td>\n",
       "      <td>0.11</td>\n",
       "      <td>Friday</td>\n",
       "      <td>4</td>\n",
       "    </tr>\n",
       "    <tr>\n",
       "      <th>1</th>\n",
       "      <td>16889</td>\n",
       "      <td>2021-04-10</td>\n",
       "      <td>10.12</td>\n",
       "      <td>3.52</td>\n",
       "      <td>0.00</td>\n",
       "      <td>Saturday</td>\n",
       "      <td>4</td>\n",
       "    </tr>\n",
       "    <tr>\n",
       "      <th>2</th>\n",
       "      <td>13475</td>\n",
       "      <td>2021-04-11</td>\n",
       "      <td>9.83</td>\n",
       "      <td>4.33</td>\n",
       "      <td>0.92</td>\n",
       "      <td>Sunday</td>\n",
       "      <td>4</td>\n",
       "    </tr>\n",
       "    <tr>\n",
       "      <th>3</th>\n",
       "      <td>9508</td>\n",
       "      <td>2021-04-12</td>\n",
       "      <td>7.28</td>\n",
       "      <td>4.47</td>\n",
       "      <td>0.27</td>\n",
       "      <td>Monday</td>\n",
       "      <td>4</td>\n",
       "    </tr>\n",
       "    <tr>\n",
       "      <th>4</th>\n",
       "      <td>13433</td>\n",
       "      <td>2021-04-13</td>\n",
       "      <td>6.45</td>\n",
       "      <td>2.21</td>\n",
       "      <td>0.01</td>\n",
       "      <td>Tuesday</td>\n",
       "      <td>4</td>\n",
       "    </tr>\n",
       "  </tbody>\n",
       "</table>\n",
       "</div>"
      ],
      "text/plain": [
       "      nb        date   temp  wind  rain   Dayweek  Month\n",
       "0   8255  2021-04-09  10.68  4.25  0.11    Friday      4\n",
       "1  16889  2021-04-10  10.12  3.52  0.00  Saturday      4\n",
       "2  13475  2021-04-11   9.83  4.33  0.92    Sunday      4\n",
       "3   9508  2021-04-12   7.28  4.47  0.27    Monday      4\n",
       "4  13433  2021-04-13   6.45  2.21  0.01   Tuesday      4"
      ]
     },
     "execution_count": 2,
     "metadata": {},
     "output_type": "execute_result"
    }
   ],
   "source": [
    "df = pd.read_csv('../data/meteo_2021.csv')\n",
    "df.head()"
   ]
  },
  {
   "cell_type": "code",
   "execution_count": 3,
   "id": "d5e7bc81-70d4-4d74-891d-464b94cddb8f",
   "metadata": {},
   "outputs": [],
   "source": [
    "from sklearn.linear_model import LinearRegression\n",
    "from sklearn.preprocessing import PolynomialFeatures\n",
    "from sklearn.model_selection import train_test_split"
   ]
  },
  {
   "cell_type": "code",
   "execution_count": 4,
   "id": "97d50de3-028e-4ed0-b300-35d5941bf389",
   "metadata": {},
   "outputs": [],
   "source": [
    "X = df.iloc[:, [2, 3, 4, 6]].values\n",
    "y = df.iloc[:, 0].values\n",
    "Xtrain,Xtest,ytrain,ytest = train_test_split(X,y,train_size=.8, random_state=2)"
   ]
  },
  {
   "cell_type": "code",
   "execution_count": 5,
   "id": "046b713f-b6bf-47c4-b774-8c2bf57e1bbf",
   "metadata": {},
   "outputs": [],
   "source": [
    "def regressionPolynomial(Xtrain,ytrain,n=1):\n",
    "    transformer = PolynomialFeatures(degree=n, include_bias=False)\n",
    "    transformer.fit(Xtrain)\n",
    "    x_ = transformer.transform(Xtrain)\n",
    "    model = LinearRegression().fit(x_, ytrain)\n",
    "    score = model.score(x_,ytrain)\n",
    "    return model, transformer, score\n",
    "def testR(model, t,Xtest, ytest, n=1):\n",
    "    xtest = t.transform(Xtest)\n",
    "    score = model.score(xtest, ytest)\n",
    "    return score"
   ]
  },
  {
   "cell_type": "code",
   "execution_count": 6,
   "id": "6ab882c8-4f37-4af1-a0fd-510c3e731dbd",
   "metadata": {},
   "outputs": [
    {
     "name": "stdout",
     "output_type": "stream",
     "text": [
      "0.602150875417117 0.711799890221261 0.7811734836356553\n"
     ]
    }
   ],
   "source": [
    "m1, t1, s1 = regressionPolynomial(Xtrain,ytrain)\n",
    "m2, t2, s2 = regressionPolynomial(Xtrain,ytrain, n=2)\n",
    "m3, t3, s3 = regressionPolynomial(Xtrain,ytrain, n=3)\n",
    "print(s1,s2,s3)"
   ]
  },
  {
   "cell_type": "code",
   "execution_count": 7,
   "id": "c248ee42-a8af-4180-9b5f-df6bffb1250a",
   "metadata": {},
   "outputs": [],
   "source": [
    "import matplotlib.pyplot as plt"
   ]
  },
  {
   "cell_type": "code",
   "execution_count": 8,
   "id": "f19a05eb-97dd-4b8f-811c-046498ed932c",
   "metadata": {},
   "outputs": [
    {
     "data": {
      "text/plain": [
       "<BarContainer object of 3 artists>"
      ]
     },
     "execution_count": 8,
     "metadata": {},
     "output_type": "execute_result"
    },
    {
     "data": {
      "image/png": "[encoded data removed]",
      "text/plain": [
       "<Figure size 432x288 with 1 Axes>"
      ]
     },
     "metadata": {
      "needs_background": "light"
     },
     "output_type": "display_data"
    }
   ],
   "source": [
    "a = [s1,s2,s3]\n",
    "b = [\"n=1\",\"n=2\",\"n=3\"]\n",
    "plt.bar(b,a)"
   ]
  },
  {
   "cell_type": "code",
   "execution_count": 9,
   "id": "2d01a7ce-6a68-45b7-ab70-07f00d5ff6e3",
   "metadata": {},
   "outputs": [
    {
     "name": "stdout",
     "output_type": "stream",
     "text": [
      "[0.71538381499995, 0.7675540313409368, 0.7652843665159403]\n"
     ]
    },
    {
     "data": {
      "text/plain": [
       "<BarContainer object of 3 artists>"
      ]
     },
     "execution_count": 9,
     "metadata": {},
     "output_type": "execute_result"
    },
    {
     "data": {
      "image/png": "[encoded data removed]",
      "text/plain": [
       "<Figure size 432x288 with 1 Axes>"
      ]
     },
     "metadata": {
      "needs_background": "light"
     },
     "output_type": "display_data"
    }
   ],
   "source": [
    "score = [testR(m1, t1, Xtest, ytest,n=1), testR(m2, t2, Xtest, ytest,n=2), testR(m3, t3, Xtest, ytest,n=3)]\n",
    "print(score)\n",
    "b = [\"n=1\",\"n=2\",\"n=3\"]\n",
    "plt.bar(b,score)"
   ]
  },
  {
   "cell_type": "markdown",
   "id": "2a77dc9b-86bf-4ff4-b10a-3eade432134a",
   "metadata": {},
   "source": [
    "Score très peu élèvés, manque des données ? \n"
   ]
  }
 ],
 "metadata": {
  "kernelspec": {
   "display_name": "Python 3 (ipykernel)",
   "language": "python",
   "name": "python3"
  },
  "language_info": {
   "codemirror_mode": {
    "name": "ipython",
    "version": 3
   },
   "file_extension": ".py",
   "mimetype": "text/x-python",
   "name": "python",
   "nbconvert_exporter": "python",
   "pygments_lexer": "ipython3",
   "version": "3.9.2"
  }
 },
 "nbformat": 4,
 "nbformat_minor": 5
}
