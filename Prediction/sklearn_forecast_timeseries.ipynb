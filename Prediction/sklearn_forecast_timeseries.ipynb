{
 "cells": [
  {
   "cell_type": "markdown",
   "id": "edde43ff-3ccd-4335-94e8-7f6666e60513",
   "metadata": {},
   "source": [
    "https://www.cienciadedatos.net/documentos/py27-time-series-forecasting-python-scikitlearn.html"
   ]
  },
  {
   "cell_type": "code",
   "execution_count": 1,
   "id": "aa034d17-bdf1-44f0-9cf4-69954b5b2347",
   "metadata": {},
   "outputs": [
    {
     "ename": "ModuleNotFoundError",
     "evalue": "No module named 'skforecast'",
     "output_type": "error",
     "traceback": [
      "\u001b[0;31m---------------------------------------------------------------------------\u001b[0m",
      "\u001b[0;31mModuleNotFoundError\u001b[0m                       Traceback (most recent call last)",
      "Input \u001b[0;32mIn [1]\u001b[0m, in \u001b[0;36m<cell line: 18>\u001b[0;34m()\u001b[0m\n\u001b[1;32m     15\u001b[0m \u001b[38;5;28;01mfrom\u001b[39;00m \u001b[38;5;21;01msklearn\u001b[39;00m\u001b[38;5;21;01m.\u001b[39;00m\u001b[38;5;21;01mpreprocessing\u001b[39;00m \u001b[38;5;28;01mimport\u001b[39;00m StandardScaler\n\u001b[1;32m     16\u001b[0m \u001b[38;5;28;01mfrom\u001b[39;00m \u001b[38;5;21;01msklearn\u001b[39;00m\u001b[38;5;21;01m.\u001b[39;00m\u001b[38;5;21;01mpipeline\u001b[39;00m \u001b[38;5;28;01mimport\u001b[39;00m make_pipeline\n\u001b[0;32m---> 18\u001b[0m \u001b[38;5;28;01mfrom\u001b[39;00m \u001b[38;5;21;01mskforecast\u001b[39;00m\u001b[38;5;21;01m.\u001b[39;00m\u001b[38;5;21;01mForecasterAutoreg\u001b[39;00m \u001b[38;5;28;01mimport\u001b[39;00m ForecasterAutoreg\n\u001b[1;32m     19\u001b[0m \u001b[38;5;28;01mfrom\u001b[39;00m \u001b[38;5;21;01mskforecast\u001b[39;00m\u001b[38;5;21;01m.\u001b[39;00m\u001b[38;5;21;01mForecasterAutoregCustom\u001b[39;00m \u001b[38;5;28;01mimport\u001b[39;00m ForecasterAutoregCustom\n\u001b[1;32m     20\u001b[0m \u001b[38;5;28;01mfrom\u001b[39;00m \u001b[38;5;21;01mskforecast\u001b[39;00m\u001b[38;5;21;01m.\u001b[39;00m\u001b[38;5;21;01mForecasterAutoregMultiOutput\u001b[39;00m \u001b[38;5;28;01mimport\u001b[39;00m ForecasterAutoregMultiOutput\n",
      "\u001b[0;31mModuleNotFoundError\u001b[0m: No module named 'skforecast'"
     ]
    }
   ],
   "source": [
    "import numpy as np\n",
    "import pandas as pd\n",
    "\n",
    "import matplotlib.pyplot as plt\n",
    "plt.style.use('fivethirtyeight')\n",
    "plt.rcParams['lines.linewidth'] = 1.5\n",
    "%matplotlib inline\n",
    "\n",
    "# Modeling and Forecasting\n",
    "# ==============================================================================\n",
    "from sklearn.linear_model import LinearRegression\n",
    "from sklearn.linear_model import Lasso\n",
    "from sklearn.ensemble import RandomForestRegressor\n",
    "from sklearn.metrics import mean_squared_error\n",
    "from sklearn.preprocessing import StandardScaler\n",
    "from sklearn.pipeline import make_pipeline\n",
    "\n",
    "from skforecast.ForecasterAutoreg import ForecasterAutoreg\n",
    "from skforecast.ForecasterAutoregCustom import ForecasterAutoregCustom\n",
    "from skforecast.ForecasterAutoregMultiOutput import ForecasterAutoregMultiOutput\n",
    "from skforecast.model_selection import grid_search_forecaster\n",
    "from skforecast.model_selection import backtesting_forecaster\n",
    "\n",
    "from joblib import dump, load\n",
    "\n",
    "# Warnings configuration\n",
    "# ==============================================================================\n",
    "import warnings\n",
    "# warnings.filterwarnings('ignore')"
   ]
  },
  {
   "cell_type": "code",
   "execution_count": 2,
   "id": "7307e2f7-a2ad-48b1-b19c-60019b68a1af",
   "metadata": {},
   "outputs": [
    {
     "name": "stdout",
     "output_type": "stream",
     "text": [
      "Looking in indexes: https://pypi.org/simple, https://www.piwheels.org/simple\n",
      "Collecting skforecast\n",
      "  Downloading https://www.piwheels.org/simple/skforecast/skforecast-0.4.3-py3-none-any.whl (87 kB)\n",
      "\u001b[K     |████████████████████████████████| 87 kB 441 kB/s eta 0:00:01\n",
      "\u001b[?25hRequirement already satisfied: scikit-learn>=1.0 in /home/pi/pythonMTI/lib/python3.9/site-packages (from skforecast) (1.1.1)\n",
      "Collecting tqdm<=4.62,>=4.57.0\n",
      "  Downloading https://www.piwheels.org/simple/tqdm/tqdm-4.62.0-py2.py3-none-any.whl (76 kB)\n",
      "\u001b[K     |████████████████████████████████| 76 kB 423 kB/s eta 0:00:01\n",
      "\u001b[?25hCollecting numpy<=1.22,>=1.20\n",
      "  Downloading numpy-1.22.0-cp39-cp39-manylinux_2_17_aarch64.manylinux2014_aarch64.whl (13.4 MB)\n",
      "\u001b[K     |████████████████████████████████| 13.4 MB 49 kB/s  eta 0:00:01     |█████████████████████████▊      | 10.7 MB 8.8 MB/s eta 0:00:01\n",
      "\u001b[?25hCollecting statsmodels<=0.13,>=0.12\n",
      "  Downloading statsmodels-0.13.0.tar.gz (17.8 MB)\n",
      "\u001b[K     |████████████████████████████████| 17.8 MB 7.6 MB/s eta 0:00:01\n",
      "\u001b[?25h  Installing build dependencies ... \u001b[?25ldone\n",
      "\u001b[?25h  Getting requirements to build wheel ... \u001b[?25ldone\n",
      "\u001b[?25h    Preparing wheel metadata ... \u001b[?25ldone\n",
      "\u001b[?25hCollecting pandas<=1.4,>=1.2\n",
      "  Downloading pandas-1.4.0-cp39-cp39-manylinux_2_17_aarch64.manylinux2014_aarch64.whl (11.0 MB)\n",
      "\u001b[K     |████████████████████████████████| 11.0 MB 8.0 MB/s eta 0:00:01\n",
      "\u001b[?25hRequirement already satisfied: python-dateutil>=2.8.1 in /home/pi/pythonMTI/lib/python3.9/site-packages (from pandas<=1.4,>=1.2->skforecast) (2.8.2)\n",
      "Requirement already satisfied: pytz>=2020.1 in /home/pi/pythonMTI/lib/python3.9/site-packages (from pandas<=1.4,>=1.2->skforecast) (2022.1)\n",
      "Requirement already satisfied: six>=1.5 in /home/pi/pythonMTI/lib/python3.9/site-packages (from python-dateutil>=2.8.1->pandas<=1.4,>=1.2->skforecast) (1.16.0)\n",
      "Requirement already satisfied: scipy>=1.3.2 in /home/pi/pythonMTI/lib/python3.9/site-packages (from scikit-learn>=1.0->skforecast) (1.8.1)\n",
      "Requirement already satisfied: joblib>=1.0.0 in /home/pi/pythonMTI/lib/python3.9/site-packages (from scikit-learn>=1.0->skforecast) (1.1.0)\n",
      "Requirement already satisfied: threadpoolctl>=2.0.0 in /home/pi/pythonMTI/lib/python3.9/site-packages (from scikit-learn>=1.0->skforecast) (3.1.0)\n",
      "Requirement already satisfied: patsy>=0.5.2 in /home/pi/pythonMTI/lib/python3.9/site-packages (from statsmodels<=0.13,>=0.12->skforecast) (0.5.2)\n",
      "Building wheels for collected packages: statsmodels\n",
      "  Building wheel for statsmodels (PEP 517) ... \u001b[?25ldone\n",
      "\u001b[?25h  Created wheel for statsmodels: filename=statsmodels-0.13.0-cp39-cp39-linux_aarch64.whl size=20772804 sha256=6879c085abad1c9edb6c10a8b28f4f2dc0735237dc9f9660c920747dd2d771d2\n",
      "  Stored in directory: /home/pi/.cache/pip/wheels/3f/62/0f/73f5e01f28f22f912d26c4039b403fd283742770b6956792e9\n",
      "Successfully built statsmodels\n",
      "Installing collected packages: numpy, pandas, tqdm, statsmodels, skforecast\n",
      "  Attempting uninstall: numpy\n",
      "    Found existing installation: numpy 1.22.3\n",
      "    Uninstalling numpy-1.22.3:\n",
      "      Successfully uninstalled numpy-1.22.3\n",
      "  Attempting uninstall: pandas\n",
      "    Found existing installation: pandas 1.4.2\n",
      "    Uninstalling pandas-1.4.2:\n",
      "      Successfully uninstalled pandas-1.4.2\n",
      "  Attempting uninstall: statsmodels\n",
      "    Found existing installation: statsmodels 0.13.2\n",
      "    Uninstalling statsmodels-0.13.2:\n",
      "      Successfully uninstalled statsmodels-0.13.2\n",
      "Successfully installed numpy-1.22.0 pandas-1.4.0 skforecast-0.4.3 statsmodels-0.13.0 tqdm-4.62.0\n"
     ]
    }
   ],
   "source": [
    "!pip install skforecast"
   ]
  },
  {
   "cell_type": "code",
   "execution_count": 3,
   "id": "0e51ad7c-f9a0-47e2-bc84-e26ca68a862a",
   "metadata": {},
   "outputs": [
    {
     "ename": "NameError",
     "evalue": "name 'numpy' is not defined",
     "output_type": "error",
     "traceback": [
      "\u001b[0;31m---------------------------------------------------------------------------\u001b[0m",
      "\u001b[0;31mNameError\u001b[0m                                 Traceback (most recent call last)",
      "Input \u001b[0;32mIn [3]\u001b[0m, in \u001b[0;36m<cell line: 1>\u001b[0;34m()\u001b[0m\n\u001b[0;32m----> 1\u001b[0m \u001b[43mnumpy\u001b[49m\u001b[38;5;241m.\u001b[39m__version__\n",
      "\u001b[0;31mNameError\u001b[0m: name 'numpy' is not defined"
     ]
    }
   ],
   "source": [
    "np.__version__"
   ]
  }
 ],
 "metadata": {
  "kernelspec": {
   "display_name": "Python 3 (ipykernel)",
   "language": "python",
   "name": "python3"
  },
  "language_info": {
   "codemirror_mode": {
    "name": "ipython",
    "version": 3
   },
   "file_extension": ".py",
   "mimetype": "text/x-python",
   "name": "python",
   "nbconvert_exporter": "python",
   "pygments_lexer": "ipython3",
   "version": "3.9.2"
  }
 },
 "nbformat": 4,
 "nbformat_minor": 5
}
