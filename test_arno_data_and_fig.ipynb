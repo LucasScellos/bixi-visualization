{
 "cells": [
  {
   "cell_type": "code",
   "execution_count": null,
   "metadata": {},
   "outputs": [],
   "source": [
    "from app_figures import Data,Figures\n",
    "import pandas as pd\n",
    "import plotly.express as px\n",
    "import plotly.graph_objects as go\n",
    "import numpy as np\n",
    "\n"
   ]
  },
  {
   "cell_type": "code",
   "execution_count": null,
   "metadata": {},
   "outputs": [],
   "source": [
    "data=Data()\n",
    "data.data_stations_2021.head()"
   ]
  },
  {
   "cell_type": "markdown",
   "metadata": {},
   "source": [
    "Create dict {station : deplacements_per_month(dataframe)}"
   ]
  },
  {
   "cell_type": "code",
   "execution_count": null,
   "metadata": {},
   "outputs": [],
   "source": [
    "df=data.data_stations_2021[data.data_stations_2021[\"emplacement_pk_start\"]==10].groupby(\"Month\").count()[\"start_date\"]\n",
    "df.index\n",
    "df.values"
   ]
  },
  {
   "cell_type": "code",
   "execution_count": null,
   "metadata": {},
   "outputs": [],
   "source": [
    "df_pk_group=data.data_stations_2021.groupby(\"emplacement_pk_start\")\n",
    "my_dict={}\n",
    "for pk,df in df_pk_group:\n",
    "    df=df.groupby(\"Month\").count().filter(items=[\"start_date\"])\n",
    "    df.rename({\"start_date\":\"nb_trajets\"},inplace=True)\n",
    "    my_dict[pk]=df\n",
    "my_dict"
   ]
  },
  {
   "cell_type": "code",
   "execution_count": null,
   "metadata": {},
   "outputs": [],
   "source": [
    "import plotly.graph_objects as go\n",
    "station_list=[\"Métro Angrignon (Lamont /  des Trinitaires)\"]\n",
    "df=data.bixi_stations\n",
    "station_list_id=[df.loc[df[\"name\"]==name][\"pk\"].values[0] for name in station_list]\n",
    "station_list_id\n",
    "my_dict_with_name={station_name:my_dict[station_list_id[idx]] for idx,station_name in enumerate(station_list)}\n",
    "my_dict_with_name\n",
    "\n",
    "fig=go.Figure()\n",
    "for station_name,df in my_dict_with_name.items():\n",
    "    fig.add_trace(go.Scatter(x=df.index,y=df[\"start_date\"],name=station_name))\n",
    "fig.show()\n",
    "\n"
   ]
  },
  {
   "cell_type": "code",
   "execution_count": null,
   "metadata": {},
   "outputs": [],
   "source": [
    "data.bixi_stations.head()"
   ]
  },
  {
   "cell_type": "markdown",
   "metadata": {},
   "source": [
    "Create deplacement for all stations"
   ]
  },
  {
   "cell_type": "code",
   "execution_count": null,
   "metadata": {},
   "outputs": [],
   "source": [
    "df=pd.read_csv(\"data/deplacement.csv\")\n",
    "# Drop rows where same pickup and dropoff location\n",
    "index_to_drop=df[(df[\"pickup_latitude\"]==df[\"dropoff_latitude\"]) | (df[\"pickup_longitude\"]==df[\"dropoff_longitude\"])].index\n",
    "df.drop(index_to_drop,inplace=True)\n",
    "df[df[\"pickup_name\"]==\"Métro Angrignon (Lamont /  des Trinitaires)\"]"
   ]
  },
  {
   "cell_type": "code",
   "execution_count": null,
   "metadata": {},
   "outputs": [],
   "source": [
    "fig = go.Figure()\n",
    "# Impossible to trace all data\n",
    "# Try per station\n",
    "pickup_name=\"Métro Angrignon (Lamont /  des Trinitaires)\"\n",
    "min_max_width=[1,4]\n",
    "min_max_nb=[df[df[\"pickup_name\"]==pickup_name][\"nb\"].min(),df[df[\"pickup_name\"]==pickup_name][\"nb\"].max()]\n",
    "# print(np.interp(33,min_max_nb,min_max_width))\n",
    "for idx in df[df[\"pickup_name\"]==pickup_name].index:\n",
    "    fig.add_trace(\n",
    "        go.Scattermapbox(\n",
    "            mode=\"lines\",\n",
    "            name=\"to ...\",\n",
    "            lat=[df[\"pickup_latitude\"][idx], df[\"dropoff_latitude\"][idx]],\n",
    "            lon=[df[\"pickup_longitude\"][idx], df[\"dropoff_longitude\"][idx]],\n",
    "            line=dict(\n",
    "                    # color=[df[\"nb\"][idx]],\n",
    "                    # colorscale=\"viridis\",\n",
    "                    width=np.interp(df[\"nb\"][idx],min_max_nb,min_max_width)\n",
    "                )\n",
    "        )\n",
    "    )\n",
    "\n",
    "fig.update_layout(\n",
    "    margin={\"l\": 0, \"t\": 0, \"b\": 0, \"r\": 0},\n",
    "    mapbox={\n",
    "        \"style\": \"open-street-map\",\n",
    "        \"center\": {\"lat\": 45.5569442, \"lon\": -73.6336101},\n",
    "        \"zoom\": 9.25,\n",
    "    },\n",
    ")\n",
    "fig.show()"
   ]
  }
 ],
 "metadata": {
  "kernelspec": {
   "display_name": "Python 3.9.7 64-bit",
   "language": "python",
   "name": "python3"
  },
  "language_info": {
   "codemirror_mode": {
    "name": "ipython",
    "version": 3
   },
   "file_extension": ".py",
   "mimetype": "text/x-python",
   "name": "python",
   "nbconvert_exporter": "python",
   "pygments_lexer": "ipython3",
   "version": "3.9.7"
  },
  "orig_nbformat": 4,
  "vscode": {
   "interpreter": {
    "hash": "a581282fe4ae0358a74a72c6c02278fa42c707e80ec4df3ba6158f5b95d6b699"
   }
  }
 },
 "nbformat": 4,
 "nbformat_minor": 2
}
